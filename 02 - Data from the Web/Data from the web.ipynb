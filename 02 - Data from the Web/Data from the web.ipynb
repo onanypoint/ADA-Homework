{
 "cells": [
  {
   "cell_type": "code",
   "execution_count": 239,
   "metadata": {
    "collapsed": true,
    "scrolled": true
   },
   "outputs": [],
   "source": [
    "%matplotlib inline\n",
    "import requests\n",
    "from bs4 import BeautifulSoup\n",
    "import pandas as pd\n",
    "import numpy as np\n",
    "import scipy as sp\n",
    "import urllib.parse\n",
    "import re"
   ]
  },
  {
   "cell_type": "markdown",
   "metadata": {},
   "source": [
    "## Data Retrieval"
   ]
  },
  {
   "cell_type": "markdown",
   "metadata": {},
   "source": [
    "We can see two base url used to retrive data, the ```URL_FORM_BASE``` for the form and ```URL_DATA_BASE``` for the data (the table which contains the actual information)."
   ]
  },
  {
   "cell_type": "code",
   "execution_count": 240,
   "metadata": {
    "collapsed": true,
    "scrolled": true
   },
   "outputs": [],
   "source": [
    "URL_FORM_BASE = \"http://isa.epfl.ch/imoniteur_ISAP/!GEDPUBLICREPORTS.filter\"\n",
    "URL_DATA_BASE = \"http://isa.epfl.ch/imoniteur_ISAP/!GEDPUBLICREPORTS.html\""
   ]
  },
  {
   "cell_type": "markdown",
   "metadata": {},
   "source": [
    "By first inspecting the source code of the page we can see that the form has some hidden field, they indicate to the backend what kind of data to retrieve. We can thus form a dictionary of \"default parameters\"."
   ]
  },
  {
   "cell_type": "code",
   "execution_count": 241,
   "metadata": {
    "collapsed": false,
    "scrolled": true
   },
   "outputs": [],
   "source": [
    "FORM_PARAM_DEFAULT = {\n",
    "    \"ww_v_list\" : 1,\n",
    "    \"ww_i_reportmodel\": \"133685247\",\n",
    "    #\"ww_c_langue\": 'en', # We work with the frenc version to match the questions\n",
    "}"
   ]
  },
  {
   "cell_type": "markdown",
   "metadata": {},
   "source": [
    "We then take interest in the form itself. We can see that we have 5 different fields each with a specific name attribute. (When the form is \"posted\" the name attribute is used to generate the url). We can thus retrieve all the options for each field relying on his name attribute.\n",
    "\n",
    "We will only work with the HTML data so we directly take the parameters from the source code and don't bother to parse the HMTL page to retrieve it (for HMTL use a value of 133685270 for the ww_i_reportModelXsl attribute)."
   ]
  },
  {
   "cell_type": "code",
   "execution_count": 242,
   "metadata": {
    "collapsed": false,
    "scrolled": true
   },
   "outputs": [],
   "source": [
    "def request2soup(url, params):\n",
    "    r = requests.get(url, params=params)\n",
    "    assert r.status_code == 200\n",
    "    return BeautifulSoup(r.text, \"lxml\")\n",
    "\n",
    "def get_select_options(soup, name_attr):\n",
    "    data = soup.select('select[name={}]'.format(name_attr))[0] #We assume that we have only one field with a specific name\n",
    "    options = {option['value']: option.text for option in data.find_all('option', value=True, selected=False) if  option.text != ''}\n",
    "    return options\n",
    "\n",
    "def get_fields_options(soup, fields):\n",
    "    form_options = {}\n",
    "    for key, value in fields.items():\n",
    "        form_options[value] = get_select_options(soup, value)\n",
    "    \n",
    "    return form_options\n",
    "\n",
    "FORM_FIELDS = {\n",
    "    # Label : Name Attribute\n",
    "    'Unité académique': 'ww_x_UNITE_ACAD',\n",
    "    'Période académique': 'ww_x_PERIODE_ACAD',\n",
    "    'Période pédagogique': 'ww_x_PERIODE_PEDAGO',\n",
    "    'Type de semestre': 'ww_x_HIVERETE',\n",
    "}\n",
    "\n",
    "soup_index = request2soup(URL_FORM_BASE, FORM_PARAM_DEFAULT)\n",
    "\n",
    "FORM_FIELDS_OPTIONS = get_fields_options(soup_index, FORM_FIELDS)"
   ]
  },
  {
   "cell_type": "code",
   "execution_count": 243,
   "metadata": {
    "collapsed": false,
    "scrolled": true
   },
   "outputs": [
    {
     "data": {
      "text/plain": [
       "{'ww_x_HIVERETE': {'2936286': \"Semestre d'automne\",\n",
       "  '2936295': 'Semestre de printemps'},\n",
       " 'ww_x_PERIODE_ACAD': {'123455150': '2011-2012',\n",
       "  '123456101': '2012-2013',\n",
       "  '213637754': '2013-2014',\n",
       "  '213637922': '2014-2015',\n",
       "  '213638028': '2015-2016',\n",
       "  '355925344': '2016-2017',\n",
       "  '39486325': '2010-2011',\n",
       "  '978181': '2007-2008',\n",
       "  '978187': '2008-2009',\n",
       "  '978195': '2009-2010'},\n",
       " 'ww_x_PERIODE_PEDAGO': {'2063602308': 'Mise à niveau',\n",
       "  '2226616': 'Stage automne 4ème année',\n",
       "  '2226626': 'Stage printemps 4ème année',\n",
       "  '2226768': 'Bachelor semestre 5b',\n",
       "  '2226785': 'Bachelor semestre 6b',\n",
       "  '2227132': 'Stage printemps master',\n",
       "  '2230106': 'Master semestre 1',\n",
       "  '2230128': 'Master semestre 3',\n",
       "  '2230140': 'Master semestre 4',\n",
       "  '2335667': 'Mineur semestre 1',\n",
       "  '2335676': 'Mineur semestre 2',\n",
       "  '249108': 'Bachelor semestre 1',\n",
       "  '249114': 'Bachelor semestre 2',\n",
       "  '249127': 'Projet Master automne',\n",
       "  '2754553': 'Semestre printemps',\n",
       "  '3781783': 'Projet Master printemps',\n",
       "  '942120': 'Bachelor semestre 5',\n",
       "  '942155': 'Bachelor semestre 3',\n",
       "  '942163': 'Bachelor semestre 4',\n",
       "  '942175': 'Bachelor semestre 6',\n",
       "  '942192': 'Master semestre 2',\n",
       "  '953137': 'Stage automne 3ème année',\n",
       "  '953159': 'Semestre automne',\n",
       "  '983606': 'Stage printemps 3ème année'},\n",
       " 'ww_x_UNITE_ACAD': {'120623110': 'Ingénierie financière',\n",
       "  '1574548993': 'Section FCUE',\n",
       "  '2054839157': 'Humanités digitales',\n",
       "  '246696': 'Chimie et génie chimique',\n",
       "  '249847': 'Informatique',\n",
       "  '637841336': 'EME (EPFL Middle East)',\n",
       "  '942293': 'Architecture',\n",
       "  '942623': 'Génie civil',\n",
       "  '942953': \"Sciences et ingénierie de l'environnement\",\n",
       "  '943282': 'Cours de mathématiques spéciales',\n",
       "  '943936': 'Génie électrique et électronique ',\n",
       "  '944263': 'Génie mécanique',\n",
       "  '944590': 'Mathématiques',\n",
       "  '944917': 'Science et génie des matériaux',\n",
       "  '945244': 'Microtechnique',\n",
       "  '945571': 'Physique',\n",
       "  '945901': 'Sciences et technologies du vivant',\n",
       "  '946228': 'Systèmes de communication',\n",
       "  '946882': 'Management de la technologie'}}"
      ]
     },
     "execution_count": 243,
     "metadata": {},
     "output_type": "execute_result"
    }
   ],
   "source": [
    "FORM_FIELDS_OPTIONS"
   ]
  },
  {
   "cell_type": "markdown",
   "metadata": {},
   "source": [
    "By submiting the form, we get a table filled with links at the bottom of the form back. Of course ISA does not want to play it simple and rely instead of the href attribute to javascript for the link behaviour. A clicked link call the js function \"loadReport\" which generate the \"data url\" based on the ww_x_GPS attribute. "
   ]
  },
  {
   "cell_type": "markdown",
   "metadata": {},
   "source": [
    "First we define two utilities function to generate for us the complete url based on the given parameters."
   ]
  },
  {
   "cell_type": "code",
   "execution_count": 244,
   "metadata": {
    "collapsed": false,
    "scrolled": true
   },
   "outputs": [],
   "source": [
    "# Get Url for the form page (the one with the links)\n",
    "def get_form_url(params):\n",
    "    return URL_FORM_BASE + \"?\" + urllib.parse.urlencode(dict(params, **FORM_PARAM_DEFAULT))\n",
    "\n",
    "# Get Url for the data page (the one with the table of students information)\n",
    "def get_data_url(params, GPS=-1, type=133685270):\n",
    "    p = {'ww_x_GPS': GPS, 'ww_i_reportModelXsl': type}\n",
    "    return URL_DATA_BASE + \"?\" + urllib.parse.urlencode(dict(dict(params, **FORM_PARAM_DEFAULT), **p))"
   ]
  },
  {
   "cell_type": "markdown",
   "metadata": {},
   "source": [
    "Instead of parsing the form page to retrieve the ww_x_GPS attribute, we generate directly the data url based on the form options discovered above."
   ]
  },
  {
   "cell_type": "code",
   "execution_count": 245,
   "metadata": {
    "collapsed": false
   },
   "outputs": [],
   "source": [
    "# Returns a dataframe containing all the student information from 2007 to 2016 for the given pedagogic period\n",
    "def get_data(period_peda, columns):\n",
    "    data_list = []\n",
    "    for peda in period_peda:\n",
    "        for period in FORM_FIELDS_OPTIONS['ww_x_PERIODE_ACAD']:\n",
    "            params = {\n",
    "                'ww_x_UNITE_ACAD': 249847, # hard coded: only interested in the computer science faculty\n",
    "                'ww_x_PERIODE_ACAD': period,\n",
    "                'ww_x_PERIODE_PEDAGO': peda,\n",
    "                'ww_x_HIVERETE': '',\n",
    "            }  \n",
    "            \n",
    "            try: \n",
    "                # By specifying ww_x_UNITE_ACAD, ww_x_PERIODE_ACAD, ww_x_PERIODE_PEDAGO we are sur \n",
    "                # that only one table will be present on the page. Indeed there was only one BA1 class in year\n",
    "                # for the computer science faculty\n",
    "                data = pd.read_html(get_data_url(params), header=1)[0]\n",
    "                df = data.copy()[columns] # Only keep interesting columns\n",
    "                df['semester'] = period_peda[peda] # Add semester information\n",
    "                df['period'] = FORM_FIELDS_OPTIONS['ww_x_PERIODE_ACAD'][period] # Add period information\n",
    "                data_list.append(df)\n",
    "            except:\n",
    "                # read_html might throw an error if there is no table in the page\n",
    "                print(\"No Data : \" +  period_peda[peda] + \" \" + FORM_FIELDS_OPTIONS['ww_x_PERIODE_ACAD'][period])\n",
    "        \n",
    "    d = pd.concat(data_list) \n",
    "    return d"
   ]
  },
  {
   "cell_type": "markdown",
   "metadata": {
    "collapsed": false
   },
   "source": [
    "--------------"
   ]
  },
  {
   "cell_type": "markdown",
   "metadata": {},
   "source": [
    "# Q1 : Bachelor Data Analysis"
   ]
  },
  {
   "cell_type": "code",
   "execution_count": 376,
   "metadata": {
    "collapsed": false
   },
   "outputs": [],
   "source": [
    "bachelor = {  \n",
    "    '249108': 'Bachelor semestre 1',\n",
    "    '249114': 'Bachelor semestre 2',\n",
    "    '942155': 'Bachelor semestre 3',\n",
    "    '942163': 'Bachelor semestre 4',\n",
    "    '942120': 'Bachelor semestre 5',\n",
    "    '942175': 'Bachelor semestre 6',\n",
    "    #'2226768': 'Bachelor semestre 5b', # No data, no need to retrieve page\n",
    "    #'2226785': 'Bachelor semestre 6b', # No data, no need to retrieve page\n",
    "}\n",
    "columns = ['No Sciper', 'Statut', 'Civilité']\n",
    "\n",
    "# Retrieve the data\n",
    "d = get_data(bachelor, columns)\n",
    "d['No Sciper'] = d['No Sciper'].apply(str)\n",
    "bachelor = d.copy()"
   ]
  },
  {
   "cell_type": "markdown",
   "metadata": {},
   "source": [
    "Now that we have the data in a pandas dataframe we can start working on it."
   ]
  },
  {
   "cell_type": "markdown",
   "metadata": {},
   "source": [
    "### Assumptions and remarks\n",
    "\n",
    " * There are 23 students that already have values for their spring semester in 2017. They are the student that are abroad for their 3rd year. We assume that they will pass directly their third year.\n",
    " * There is one guy that can be considered as an outliers. He has spend 7 years in bachelor.\n",
    " * In our setup, we need to add 0.5 year (1 semester) to find the full duration.\n",
    "     \n",
    "        Example: start in fall semester 2008 -> \"starts\" in 2011.5, finish it's bachelor in the spring semester of 2014 (i.e \"finished\" in 2014). So if we just do 2014 - 2011.5 = 2.5, we miss the duration of the last semester."
   ]
  },
  {
   "cell_type": "code",
   "execution_count": 377,
   "metadata": {
    "collapsed": true
   },
   "outputs": [],
   "source": [
    "# Return if Dataframe has both ba1 ba6 entries\n",
    "first_and_last = lambda semesters: \"Bachelor semestre 1\" in semesters and \"Bachelor semestre 6\" in semesters\n",
    "# Return if the semester is an autumn semester or not\n",
    "is_autumn = lambda sem: int(sem[-1:]) % 2 == 1\n",
    "# Return if we should keed the row (based on the is_autumn result)\n",
    "idx_to_keep = lambda sem: 0 if sem else 1"
   ]
  },
  {
   "cell_type": "code",
   "execution_count": 378,
   "metadata": {
    "collapsed": false
   },
   "outputs": [
    {
     "data": {
      "text/html": [
       "<div>\n",
       "<table border=\"1\" class=\"dataframe\">\n",
       "  <thead>\n",
       "    <tr style=\"text-align: right;\">\n",
       "      <th></th>\n",
       "      <th>No Sciper</th>\n",
       "      <th>Statut</th>\n",
       "      <th>Civilité</th>\n",
       "      <th>semester</th>\n",
       "      <th>period</th>\n",
       "    </tr>\n",
       "  </thead>\n",
       "  <tbody>\n",
       "    <tr>\n",
       "      <th>0</th>\n",
       "      <td>228219</td>\n",
       "      <td>Présent</td>\n",
       "      <td>Monsieur</td>\n",
       "      <td>Bachelor semestre 3</td>\n",
       "      <td>2014-2015</td>\n",
       "    </tr>\n",
       "    <tr>\n",
       "      <th>2</th>\n",
       "      <td>219665</td>\n",
       "      <td>Présent</td>\n",
       "      <td>Madame</td>\n",
       "      <td>Bachelor semestre 3</td>\n",
       "      <td>2014-2015</td>\n",
       "    </tr>\n",
       "    <tr>\n",
       "      <th>3</th>\n",
       "      <td>227120</td>\n",
       "      <td>Présent</td>\n",
       "      <td>Monsieur</td>\n",
       "      <td>Bachelor semestre 3</td>\n",
       "      <td>2014-2015</td>\n",
       "    </tr>\n",
       "    <tr>\n",
       "      <th>4</th>\n",
       "      <td>214939</td>\n",
       "      <td>Présent</td>\n",
       "      <td>Monsieur</td>\n",
       "      <td>Bachelor semestre 3</td>\n",
       "      <td>2014-2015</td>\n",
       "    </tr>\n",
       "    <tr>\n",
       "      <th>5</th>\n",
       "      <td>236802</td>\n",
       "      <td>Présent</td>\n",
       "      <td>Monsieur</td>\n",
       "      <td>Bachelor semestre 3</td>\n",
       "      <td>2014-2015</td>\n",
       "    </tr>\n",
       "  </tbody>\n",
       "</table>\n",
       "</div>"
      ],
      "text/plain": [
       "  No Sciper   Statut  Civilité             semester     period\n",
       "0    228219  Présent  Monsieur  Bachelor semestre 3  2014-2015\n",
       "2    219665  Présent    Madame  Bachelor semestre 3  2014-2015\n",
       "3    227120  Présent  Monsieur  Bachelor semestre 3  2014-2015\n",
       "4    214939  Présent  Monsieur  Bachelor semestre 3  2014-2015\n",
       "5    236802  Présent  Monsieur  Bachelor semestre 3  2014-2015"
      ]
     },
     "execution_count": 378,
     "metadata": {},
     "output_type": "execute_result"
    }
   ],
   "source": [
    "grouped = d.groupby(['No Sciper'])\n",
    "# Only keep the student for which we have at least information about BA1 and BA6\n",
    "filtered = grouped.filter(lambda x: len(x.values) >= 2 and first_and_last(x.values)).copy()\n",
    "filtered.head()"
   ]
  },
  {
   "cell_type": "code",
   "execution_count": 387,
   "metadata": {
    "collapsed": false
   },
   "outputs": [
    {
     "data": {
      "text/html": [
       "<div>\n",
       "<table border=\"1\" class=\"dataframe\">\n",
       "  <thead>\n",
       "    <tr style=\"text-align: right;\">\n",
       "      <th></th>\n",
       "      <th>No Sciper</th>\n",
       "      <th>Statut</th>\n",
       "      <th>Civilité</th>\n",
       "      <th>semester</th>\n",
       "      <th>period</th>\n",
       "      <th>is_autumn</th>\n",
       "      <th>date</th>\n",
       "      <th>date_help</th>\n",
       "    </tr>\n",
       "  </thead>\n",
       "  <tbody>\n",
       "    <tr>\n",
       "      <th>0</th>\n",
       "      <td>228219</td>\n",
       "      <td>Présent</td>\n",
       "      <td>Monsieur</td>\n",
       "      <td>Bachelor semestre 3</td>\n",
       "      <td>2014-2015</td>\n",
       "      <td>True</td>\n",
       "      <td>2014</td>\n",
       "      <td>2014.5</td>\n",
       "    </tr>\n",
       "    <tr>\n",
       "      <th>2</th>\n",
       "      <td>219665</td>\n",
       "      <td>Présent</td>\n",
       "      <td>Madame</td>\n",
       "      <td>Bachelor semestre 3</td>\n",
       "      <td>2014-2015</td>\n",
       "      <td>True</td>\n",
       "      <td>2014</td>\n",
       "      <td>2014.5</td>\n",
       "    </tr>\n",
       "    <tr>\n",
       "      <th>3</th>\n",
       "      <td>227120</td>\n",
       "      <td>Présent</td>\n",
       "      <td>Monsieur</td>\n",
       "      <td>Bachelor semestre 3</td>\n",
       "      <td>2014-2015</td>\n",
       "      <td>True</td>\n",
       "      <td>2014</td>\n",
       "      <td>2014.5</td>\n",
       "    </tr>\n",
       "    <tr>\n",
       "      <th>4</th>\n",
       "      <td>214939</td>\n",
       "      <td>Présent</td>\n",
       "      <td>Monsieur</td>\n",
       "      <td>Bachelor semestre 3</td>\n",
       "      <td>2014-2015</td>\n",
       "      <td>True</td>\n",
       "      <td>2014</td>\n",
       "      <td>2014.5</td>\n",
       "    </tr>\n",
       "    <tr>\n",
       "      <th>5</th>\n",
       "      <td>236802</td>\n",
       "      <td>Présent</td>\n",
       "      <td>Monsieur</td>\n",
       "      <td>Bachelor semestre 3</td>\n",
       "      <td>2014-2015</td>\n",
       "      <td>True</td>\n",
       "      <td>2014</td>\n",
       "      <td>2014.5</td>\n",
       "    </tr>\n",
       "  </tbody>\n",
       "</table>\n",
       "</div>"
      ],
      "text/plain": [
       "  No Sciper   Statut  Civilité             semester     period is_autumn  \\\n",
       "0    228219  Présent  Monsieur  Bachelor semestre 3  2014-2015      True   \n",
       "2    219665  Présent    Madame  Bachelor semestre 3  2014-2015      True   \n",
       "3    227120  Présent  Monsieur  Bachelor semestre 3  2014-2015      True   \n",
       "4    214939  Présent  Monsieur  Bachelor semestre 3  2014-2015      True   \n",
       "5    236802  Présent  Monsieur  Bachelor semestre 3  2014-2015      True   \n",
       "\n",
       "   date  date_help  \n",
       "0  2014     2014.5  \n",
       "2  2014     2014.5  \n",
       "3  2014     2014.5  \n",
       "4  2014     2014.5  \n",
       "5  2014     2014.5  "
      ]
     },
     "execution_count": 387,
     "metadata": {},
     "output_type": "execute_result"
    }
   ],
   "source": [
    "# Add extracted information to ease our analysis\n",
    "filtered['is_autumn'] = filtered['semester'].apply(lambda x: is_autumn(x))\n",
    "filtered['date'] = filtered.apply(lambda x: int(x['period'].split(\"-\")[idx_to_keep(x['is_autumn'])]), axis=1)\n",
    "filtered['date_help'] = filtered.apply(lambda x: float(x.date) + (.5 if x.is_autumn else 0), axis=1)\n",
    "filtered.head()"
   ]
  },
  {
   "cell_type": "code",
   "execution_count": 388,
   "metadata": {
    "collapsed": false
   },
   "outputs": [
    {
     "data": {
      "text/html": [
       "<div>\n",
       "<table border=\"1\" class=\"dataframe\">\n",
       "  <thead>\n",
       "    <tr style=\"text-align: right;\">\n",
       "      <th></th>\n",
       "      <th>No Sciper</th>\n",
       "      <th>Statut</th>\n",
       "      <th>Civilité</th>\n",
       "      <th>semester</th>\n",
       "      <th>period</th>\n",
       "      <th>is_autumn</th>\n",
       "      <th>date</th>\n",
       "      <th>date_help</th>\n",
       "      <th>time_elapsed</th>\n",
       "    </tr>\n",
       "  </thead>\n",
       "  <tbody>\n",
       "    <tr>\n",
       "      <th>0</th>\n",
       "      <td>228219</td>\n",
       "      <td>Présent</td>\n",
       "      <td>Monsieur</td>\n",
       "      <td>Bachelor semestre 3</td>\n",
       "      <td>2014-2015</td>\n",
       "      <td>True</td>\n",
       "      <td>2014</td>\n",
       "      <td>2014.5</td>\n",
       "      <td>3.0</td>\n",
       "    </tr>\n",
       "    <tr>\n",
       "      <th>2</th>\n",
       "      <td>219665</td>\n",
       "      <td>Présent</td>\n",
       "      <td>Madame</td>\n",
       "      <td>Bachelor semestre 3</td>\n",
       "      <td>2014-2015</td>\n",
       "      <td>True</td>\n",
       "      <td>2014</td>\n",
       "      <td>2014.5</td>\n",
       "      <td>4.5</td>\n",
       "    </tr>\n",
       "    <tr>\n",
       "      <th>3</th>\n",
       "      <td>227120</td>\n",
       "      <td>Présent</td>\n",
       "      <td>Monsieur</td>\n",
       "      <td>Bachelor semestre 3</td>\n",
       "      <td>2014-2015</td>\n",
       "      <td>True</td>\n",
       "      <td>2014</td>\n",
       "      <td>2014.5</td>\n",
       "      <td>3.0</td>\n",
       "    </tr>\n",
       "    <tr>\n",
       "      <th>4</th>\n",
       "      <td>214939</td>\n",
       "      <td>Présent</td>\n",
       "      <td>Monsieur</td>\n",
       "      <td>Bachelor semestre 3</td>\n",
       "      <td>2014-2015</td>\n",
       "      <td>True</td>\n",
       "      <td>2014</td>\n",
       "      <td>2014.5</td>\n",
       "      <td>3.5</td>\n",
       "    </tr>\n",
       "    <tr>\n",
       "      <th>5</th>\n",
       "      <td>236802</td>\n",
       "      <td>Présent</td>\n",
       "      <td>Monsieur</td>\n",
       "      <td>Bachelor semestre 3</td>\n",
       "      <td>2014-2015</td>\n",
       "      <td>True</td>\n",
       "      <td>2014</td>\n",
       "      <td>2014.5</td>\n",
       "      <td>3.0</td>\n",
       "    </tr>\n",
       "  </tbody>\n",
       "</table>\n",
       "</div>"
      ],
      "text/plain": [
       "  No Sciper   Statut  Civilité             semester     period is_autumn  \\\n",
       "0    228219  Présent  Monsieur  Bachelor semestre 3  2014-2015      True   \n",
       "2    219665  Présent    Madame  Bachelor semestre 3  2014-2015      True   \n",
       "3    227120  Présent  Monsieur  Bachelor semestre 3  2014-2015      True   \n",
       "4    214939  Présent  Monsieur  Bachelor semestre 3  2014-2015      True   \n",
       "5    236802  Présent  Monsieur  Bachelor semestre 3  2014-2015      True   \n",
       "\n",
       "   date  date_help  time_elapsed  \n",
       "0  2014     2014.5           3.0  \n",
       "2  2014     2014.5           4.5  \n",
       "3  2014     2014.5           3.0  \n",
       "4  2014     2014.5           3.5  \n",
       "5  2014     2014.5           3.0  "
      ]
     },
     "execution_count": 388,
     "metadata": {},
     "output_type": "execute_result"
    }
   ],
   "source": [
    "grpd = filtered.groupby(['No Sciper'])\n",
    "duration = grpd.apply(lambda x: max(x.date_help) - min(x.date_help) + .5)\n",
    "# Finally add total time spend in bachelor\n",
    "filtered['time_elapsed'] = filtered['No Sciper'].apply(lambda sciper: duration[sciper])\n",
    "filtered.head()"
   ]
  },
  {
   "cell_type": "code",
   "execution_count": 389,
   "metadata": {
    "collapsed": false
   },
   "outputs": [
    {
     "data": {
      "text/html": [
       "<div>\n",
       "<table border=\"1\" class=\"dataframe\">\n",
       "  <thead>\n",
       "    <tr style=\"text-align: right;\">\n",
       "      <th></th>\n",
       "      <th>Civilité</th>\n",
       "      <th>time_elapsed</th>\n",
       "    </tr>\n",
       "    <tr>\n",
       "      <th>No Sciper</th>\n",
       "      <th></th>\n",
       "      <th></th>\n",
       "    </tr>\n",
       "  </thead>\n",
       "  <tbody>\n",
       "    <tr>\n",
       "      <th>147008</th>\n",
       "      <td>Monsieur</td>\n",
       "      <td>3.0</td>\n",
       "    </tr>\n",
       "    <tr>\n",
       "      <th>169569</th>\n",
       "      <td>Monsieur</td>\n",
       "      <td>3.0</td>\n",
       "    </tr>\n",
       "    <tr>\n",
       "      <th>169731</th>\n",
       "      <td>Monsieur</td>\n",
       "      <td>4.0</td>\n",
       "    </tr>\n",
       "    <tr>\n",
       "      <th>169795</th>\n",
       "      <td>Monsieur</td>\n",
       "      <td>4.5</td>\n",
       "    </tr>\n",
       "    <tr>\n",
       "      <th>171195</th>\n",
       "      <td>Monsieur</td>\n",
       "      <td>3.0</td>\n",
       "    </tr>\n",
       "  </tbody>\n",
       "</table>\n",
       "</div>"
      ],
      "text/plain": [
       "           Civilité  time_elapsed\n",
       "No Sciper                        \n",
       "147008     Monsieur           3.0\n",
       "169569     Monsieur           3.0\n",
       "169731     Monsieur           4.0\n",
       "169795     Monsieur           4.5\n",
       "171195     Monsieur           3.0"
      ]
     },
     "execution_count": 389,
     "metadata": {},
     "output_type": "execute_result"
    }
   ],
   "source": [
    "# Strip down the dataframe to a more usefull representation\n",
    "df = filtered.groupby(['No Sciper'])['Civilité', 'time_elapsed'].agg(lambda x:x.value_counts().index[0])\n",
    "df.head()"
   ]
  },
  {
   "cell_type": "markdown",
   "metadata": {},
   "source": [
    "### Duration distribution by sex\n",
    "\n",
    "As we can see, most of the one who finish their bachelor finish it in three years."
   ]
  },
  {
   "cell_type": "code",
   "execution_count": null,
   "metadata": {
    "collapsed": false
   },
   "outputs": [],
   "source": [
    "tmp = df.reset_index().groupby(['Civilité','time_elapsed']).count()\n",
    "tmp = tmp.groupby(level=0).apply(lambda x: 100*x/float(x.sum()))\n",
    "tmp = tmp.unstack(level=0)\n",
    "graph = tmp.plot(kind='bar')\n",
    "graph.set_xlabel('Length (in year)')\n",
    "graph.set_ylabel('Percentage')\n",
    "graph.set_title('Bachelor length by sex')"
   ]
  },
  {
   "cell_type": "markdown",
   "metadata": {},
   "source": [
    "### Duration mean by sex"
   ]
  },
  {
   "cell_type": "markdown",
   "metadata": {},
   "source": [
    "First we just look at the data using a simple describe. It seems that there is indeed a difference in the mean duration when looking at the sex of the student."
   ]
  },
  {
   "cell_type": "code",
   "execution_count": null,
   "metadata": {
    "collapsed": false
   },
   "outputs": [],
   "source": [
    "df.groupby(['Civilité']).describe()"
   ]
  },
  {
   "cell_type": "markdown",
   "metadata": {},
   "source": [
    "#### Hypothesis testing\n",
    "We will now test if the difference between the two means is statistically signigicant."
   ]
  },
  {
   "cell_type": "code",
   "execution_count": null,
   "metadata": {
    "collapsed": false,
    "scrolled": true
   },
   "outputs": [],
   "source": [
    "M = df.groupby(['Civilité']).get_group('Monsieur')['time_elapsed']\n",
    "F = df.groupby(['Civilité']).get_group('Madame')['time_elapsed']\n",
    "print(\"Men Mean (in semester): {}\".format(M.mean()*2))\n",
    "print(\"Female Mean (in semester): {}\".format(F.mean()*2))"
   ]
  },
  {
   "cell_type": "markdown",
   "metadata": {},
   "source": [
    "We will use as our H0 hypothesis:\n",
    "    \n",
    "    \n",
    "    The mean duration for male and female students at epfl in the computer science faculty is identical\n",
    "    \n",
    "By looking at the distribution plot above, we can see that the duration don't seem to follow a normal distribution. We will then use the Mann-Withney U-test which is a nonparametric test of the null hypothesis that two samples come from the same population against an alternative hypothesis, especially that a particular population tends to have larger values than the other."
   ]
  },
  {
   "cell_type": "code",
   "execution_count": null,
   "metadata": {
    "collapsed": false
   },
   "outputs": [],
   "source": [
    "from scipy import stats\n",
    "\n",
    "statistic, p_value = stats.mannwhitneyu(M, F, alternative='two-sided')\n",
    "print('P-value: {}'.format(p_value))"
   ]
  },
  {
   "cell_type": "markdown",
   "metadata": {},
   "source": [
    "We find a p-value greater than 0.05 meaning that at significance level of 5%, their is no difference is the distribution of the time spend in bachelor for men and women. \n",
    "\n",
    "It is important to note that this test might be skewd. The Mann-Whitney U test assumes independence of observations but in reality each duration is not completely independant of the other. Indeed an exam session might be toughter than the previous one increasing the change to add a semester to each one of the student passing the exam during the tougher session."
   ]
  },
  {
   "cell_type": "markdown",
   "metadata": {},
   "source": [
    "# Q2 : Master Data Analysis"
   ]
  },
  {
   "cell_type": "code",
   "execution_count": 404,
   "metadata": {
    "collapsed": false
   },
   "outputs": [
    {
     "name": "stdout",
     "output_type": "stream",
     "text": [
      "No Data : Projet Master printemps 2014-2015\n",
      "No Data : Projet Master printemps 2016-2017\n",
      "No Data : Projet Master printemps 2015-2016\n"
     ]
    }
   ],
   "source": [
    "master = {  \n",
    "    #'953137':  'Stage automne 3ème année', # No Data\n",
    "    #'983606':  'Stage printemps 3ème année', # No Data\n",
    "    #'2226616': 'Stage automne 4ème année', # No Data\n",
    "    #'2226626': 'Stage printemps 4ème année', # No Data\n",
    "    #'2227132': 'Stage printemps master', # No Data\n",
    "    '2230106': 'Master semestre 1',\n",
    "    '942192':  'Master semestre 2',\n",
    "    '2230128': 'Master semestre 3',\n",
    "    #'2230140': 'Master semestre 4', # No Data\n",
    "    #'2335667': 'Mineur semestre 1', # No Data\n",
    "    #'2335676': 'Mineur semestre 2', # No Data\n",
    "    #'2754553': 'Semestre printemps', # No Data\n",
    "    #'953159':  'Semestre automne', # No Data\n",
    "    '249127':  'Projet Master automne',\n",
    "    '3781783': 'Projet Master printemps',\n",
    "}\n",
    "\n",
    "\n",
    "columns = ['No Sciper', 'Statut', 'Civilité', 'Mineur', 'Spécialisation',]\n",
    "\n",
    "# Retrieve the data\n",
    "d = get_data(master, columns)\n",
    "d['No Sciper'] = d['No Sciper'].apply(str)\n",
    "master = d.copy()"
   ]
  },
  {
   "cell_type": "code",
   "execution_count": 405,
   "metadata": {
    "collapsed": false
   },
   "outputs": [
    {
     "data": {
      "text/html": [
       "<div>\n",
       "<table border=\"1\" class=\"dataframe\">\n",
       "  <thead>\n",
       "    <tr style=\"text-align: right;\">\n",
       "      <th></th>\n",
       "      <th>No Sciper</th>\n",
       "      <th>Statut</th>\n",
       "      <th>Civilité</th>\n",
       "      <th>Mineur</th>\n",
       "      <th>Spécialisation</th>\n",
       "      <th>semester</th>\n",
       "      <th>period</th>\n",
       "    </tr>\n",
       "  </thead>\n",
       "  <tbody>\n",
       "    <tr>\n",
       "      <th>0</th>\n",
       "      <td>166075</td>\n",
       "      <td>Présent</td>\n",
       "      <td>Monsieur</td>\n",
       "      <td>NaN</td>\n",
       "      <td>NaN</td>\n",
       "      <td>Master semestre 2</td>\n",
       "      <td>2014-2015</td>\n",
       "    </tr>\n",
       "    <tr>\n",
       "      <th>1</th>\n",
       "      <td>245182</td>\n",
       "      <td>Présent</td>\n",
       "      <td>Monsieur</td>\n",
       "      <td>NaN</td>\n",
       "      <td>NaN</td>\n",
       "      <td>Master semestre 2</td>\n",
       "      <td>2014-2015</td>\n",
       "    </tr>\n",
       "    <tr>\n",
       "      <th>2</th>\n",
       "      <td>194182</td>\n",
       "      <td>Présent</td>\n",
       "      <td>Monsieur</td>\n",
       "      <td>NaN</td>\n",
       "      <td>Foundations of Software</td>\n",
       "      <td>Master semestre 2</td>\n",
       "      <td>2014-2015</td>\n",
       "    </tr>\n",
       "    <tr>\n",
       "      <th>3</th>\n",
       "      <td>225434</td>\n",
       "      <td>Présent</td>\n",
       "      <td>Monsieur</td>\n",
       "      <td>Mineur en Management, technologie et entrepren...</td>\n",
       "      <td>NaN</td>\n",
       "      <td>Master semestre 2</td>\n",
       "      <td>2014-2015</td>\n",
       "    </tr>\n",
       "    <tr>\n",
       "      <th>4</th>\n",
       "      <td>244650</td>\n",
       "      <td>Présent</td>\n",
       "      <td>Monsieur</td>\n",
       "      <td>NaN</td>\n",
       "      <td>NaN</td>\n",
       "      <td>Master semestre 2</td>\n",
       "      <td>2014-2015</td>\n",
       "    </tr>\n",
       "  </tbody>\n",
       "</table>\n",
       "</div>"
      ],
      "text/plain": [
       "  No Sciper   Statut  Civilité  \\\n",
       "0    166075  Présent  Monsieur   \n",
       "1    245182  Présent  Monsieur   \n",
       "2    194182  Présent  Monsieur   \n",
       "3    225434  Présent  Monsieur   \n",
       "4    244650  Présent  Monsieur   \n",
       "\n",
       "                                              Mineur           Spécialisation  \\\n",
       "0                                                NaN                      NaN   \n",
       "1                                                NaN                      NaN   \n",
       "2                                                NaN  Foundations of Software   \n",
       "3  Mineur en Management, technologie et entrepren...                      NaN   \n",
       "4                                                NaN                      NaN   \n",
       "\n",
       "            semester     period  \n",
       "0  Master semestre 2  2014-2015  \n",
       "1  Master semestre 2  2014-2015  \n",
       "2  Master semestre 2  2014-2015  \n",
       "3  Master semestre 2  2014-2015  \n",
       "4  Master semestre 2  2014-2015  "
      ]
     },
     "execution_count": 405,
     "metadata": {},
     "output_type": "execute_result"
    }
   ],
   "source": [
    "master.head()"
   ]
  },
  {
   "cell_type": "markdown",
   "metadata": {},
   "source": [
    "### Assumption\n",
    " * We assume that the student has to do his master in at least 3 semester if has a specialization or minor in Master semester 3.\n",
    " * We keep only the people that have at least a Master semester 1 and Master semester 3 if the student has a specialization or minor. Otherwise, we only keep the people that have at least a Master semester 1 and Master semester 2.\n",
    " * If a student has neither an entry for a PDM or a mention of a stage semester we add 6 months to the total duration.\n",
    " * If a student has only a stage semester, we add 6 months for the PDM.\n",
    " * If student has only a mention of PDM, don't add anything and assume that the student does it stage and PDM at the same time."
   ]
  },
  {
   "cell_type": "code",
   "execution_count": 406,
   "metadata": {
    "collapsed": false
   },
   "outputs": [],
   "source": [
    "# Return if student has finished his master\n",
    "def first_and_last(rows):\n",
    "    minor = lambda row: sum([np.nan in [x[3]] for x in rows]) != len(rows)\n",
    "    spe = lambda row: sum([np.nan in [x[4]] for x in rows]) != len(rows)\n",
    "    \n",
    "    if minor(rows) or spe(rows):\n",
    "        return \"Master semestre 1\" in rows and \"Master semestre 3\" in rows\n",
    "\n",
    "    return \"Master semestre 1\" in rows and \"Master semestre 2\" in rows\n",
    "    \n",
    "# Return if the semester is an autumn semester or not\n",
    "def is_autumn(sem):\n",
    "    if 'automne' in sem:\n",
    "        return True\n",
    "    elif 'printemps' in sem:\n",
    "        return False\n",
    "    else:\n",
    "        return int(sem[-1:]) % 2 == 1  \n",
    "    \n",
    "# Return if we should keed the row (based on the is_autumn result)\n",
    "idx_to_keep = lambda sem: 0 if sem else 1\n",
    "\n",
    "def add_semester(rows):\n",
    "    projet = rows['semester'].str.contains('Projet').max()\n",
    "    stage = rows['Statut'].str.contains('Stage').max()\n",
    "    return (not projet and stage) or (not projet and not stage)\n",
    "\n",
    "def get_spe(rows):\n",
    "    spe = rows[rows['semester'] == 'Master semestre 3']['Spécialisation'].value_counts()\n",
    "    if len(spe):\n",
    "        assert len(spe) == 1\n",
    "        return spe.index[0]\n",
    "    return None\n",
    "\n",
    "def get_minor(rows):\n",
    "    spe = rows[rows['semester'] == 'Master semestre 3']['Mineur'].value_counts()\n",
    "    if len(spe):\n",
    "        assert len(spe) == 1\n",
    "        return spe.index[0]\n",
    "    return None"
   ]
  },
  {
   "cell_type": "code",
   "execution_count": 407,
   "metadata": {
    "collapsed": false
   },
   "outputs": [
    {
     "data": {
      "text/html": [
       "<div>\n",
       "<table border=\"1\" class=\"dataframe\">\n",
       "  <thead>\n",
       "    <tr style=\"text-align: right;\">\n",
       "      <th></th>\n",
       "      <th>No Sciper</th>\n",
       "      <th>Statut</th>\n",
       "      <th>Civilité</th>\n",
       "      <th>Mineur</th>\n",
       "      <th>Spécialisation</th>\n",
       "      <th>semester</th>\n",
       "      <th>period</th>\n",
       "    </tr>\n",
       "  </thead>\n",
       "  <tbody>\n",
       "    <tr>\n",
       "      <th>11</th>\n",
       "      <td>146330</td>\n",
       "      <td>Présent</td>\n",
       "      <td>Monsieur</td>\n",
       "      <td>NaN</td>\n",
       "      <td>NaN</td>\n",
       "      <td>Master semestre 3</td>\n",
       "      <td>2008-2009</td>\n",
       "    </tr>\n",
       "    <tr>\n",
       "      <th>14</th>\n",
       "      <td>146330</td>\n",
       "      <td>Présent</td>\n",
       "      <td>Monsieur</td>\n",
       "      <td>NaN</td>\n",
       "      <td>NaN</td>\n",
       "      <td>Master semestre 1</td>\n",
       "      <td>2007-2008</td>\n",
       "    </tr>\n",
       "    <tr>\n",
       "      <th>17</th>\n",
       "      <td>146330</td>\n",
       "      <td>Présent</td>\n",
       "      <td>Monsieur</td>\n",
       "      <td>NaN</td>\n",
       "      <td>NaN</td>\n",
       "      <td>Master semestre 2</td>\n",
       "      <td>2007-2008</td>\n",
       "    </tr>\n",
       "    <tr>\n",
       "      <th>5</th>\n",
       "      <td>146742</td>\n",
       "      <td>Congé</td>\n",
       "      <td>Monsieur</td>\n",
       "      <td>NaN</td>\n",
       "      <td>NaN</td>\n",
       "      <td>Projet Master printemps</td>\n",
       "      <td>2010-2011</td>\n",
       "    </tr>\n",
       "    <tr>\n",
       "      <th>39</th>\n",
       "      <td>146742</td>\n",
       "      <td>Présent</td>\n",
       "      <td>Monsieur</td>\n",
       "      <td>NaN</td>\n",
       "      <td>Signals, Images and Interfaces</td>\n",
       "      <td>Master semestre 2</td>\n",
       "      <td>2009-2010</td>\n",
       "    </tr>\n",
       "  </tbody>\n",
       "</table>\n",
       "</div>"
      ],
      "text/plain": [
       "   No Sciper   Statut  Civilité Mineur                  Spécialisation  \\\n",
       "11    146330  Présent  Monsieur    NaN                             NaN   \n",
       "14    146330  Présent  Monsieur    NaN                             NaN   \n",
       "17    146330  Présent  Monsieur    NaN                             NaN   \n",
       "5     146742    Congé  Monsieur    NaN                             NaN   \n",
       "39    146742  Présent  Monsieur    NaN  Signals, Images and Interfaces   \n",
       "\n",
       "                   semester     period  \n",
       "11        Master semestre 3  2008-2009  \n",
       "14        Master semestre 1  2007-2008  \n",
       "17        Master semestre 2  2007-2008  \n",
       "5   Projet Master printemps  2010-2011  \n",
       "39        Master semestre 2  2009-2010  "
      ]
     },
     "execution_count": 407,
     "metadata": {},
     "output_type": "execute_result"
    }
   ],
   "source": [
    "grouped = d.groupby(['No Sciper'])\n",
    "# Only keep the student for which we have information about at least MA1 and MA2\n",
    "filtered = grouped.filter(lambda x: len(x.values) >= 2 and first_and_last(x.values)).copy()\n",
    "filtered.sort_values('No Sciper').head()"
   ]
  },
  {
   "cell_type": "code",
   "execution_count": 408,
   "metadata": {
    "collapsed": false
   },
   "outputs": [
    {
     "data": {
      "text/html": [
       "<div>\n",
       "<table border=\"1\" class=\"dataframe\">\n",
       "  <thead>\n",
       "    <tr style=\"text-align: right;\">\n",
       "      <th></th>\n",
       "      <th>No Sciper</th>\n",
       "      <th>Statut</th>\n",
       "      <th>Civilité</th>\n",
       "      <th>Mineur</th>\n",
       "      <th>Spécialisation</th>\n",
       "      <th>semester</th>\n",
       "      <th>period</th>\n",
       "      <th>is_autumn</th>\n",
       "      <th>date</th>\n",
       "      <th>date_help</th>\n",
       "    </tr>\n",
       "  </thead>\n",
       "  <tbody>\n",
       "    <tr>\n",
       "      <th>11</th>\n",
       "      <td>146330</td>\n",
       "      <td>Présent</td>\n",
       "      <td>Monsieur</td>\n",
       "      <td>NaN</td>\n",
       "      <td>NaN</td>\n",
       "      <td>Master semestre 3</td>\n",
       "      <td>2008-2009</td>\n",
       "      <td>True</td>\n",
       "      <td>2008</td>\n",
       "      <td>2008.5</td>\n",
       "    </tr>\n",
       "    <tr>\n",
       "      <th>14</th>\n",
       "      <td>146330</td>\n",
       "      <td>Présent</td>\n",
       "      <td>Monsieur</td>\n",
       "      <td>NaN</td>\n",
       "      <td>NaN</td>\n",
       "      <td>Master semestre 1</td>\n",
       "      <td>2007-2008</td>\n",
       "      <td>True</td>\n",
       "      <td>2007</td>\n",
       "      <td>2007.5</td>\n",
       "    </tr>\n",
       "    <tr>\n",
       "      <th>17</th>\n",
       "      <td>146330</td>\n",
       "      <td>Présent</td>\n",
       "      <td>Monsieur</td>\n",
       "      <td>NaN</td>\n",
       "      <td>NaN</td>\n",
       "      <td>Master semestre 2</td>\n",
       "      <td>2007-2008</td>\n",
       "      <td>False</td>\n",
       "      <td>2008</td>\n",
       "      <td>2008.0</td>\n",
       "    </tr>\n",
       "    <tr>\n",
       "      <th>5</th>\n",
       "      <td>146742</td>\n",
       "      <td>Congé</td>\n",
       "      <td>Monsieur</td>\n",
       "      <td>NaN</td>\n",
       "      <td>NaN</td>\n",
       "      <td>Projet Master printemps</td>\n",
       "      <td>2010-2011</td>\n",
       "      <td>False</td>\n",
       "      <td>2011</td>\n",
       "      <td>2011.0</td>\n",
       "    </tr>\n",
       "    <tr>\n",
       "      <th>39</th>\n",
       "      <td>146742</td>\n",
       "      <td>Présent</td>\n",
       "      <td>Monsieur</td>\n",
       "      <td>NaN</td>\n",
       "      <td>Signals, Images and Interfaces</td>\n",
       "      <td>Master semestre 2</td>\n",
       "      <td>2009-2010</td>\n",
       "      <td>False</td>\n",
       "      <td>2010</td>\n",
       "      <td>2010.0</td>\n",
       "    </tr>\n",
       "  </tbody>\n",
       "</table>\n",
       "</div>"
      ],
      "text/plain": [
       "   No Sciper   Statut  Civilité Mineur                  Spécialisation  \\\n",
       "11    146330  Présent  Monsieur    NaN                             NaN   \n",
       "14    146330  Présent  Monsieur    NaN                             NaN   \n",
       "17    146330  Présent  Monsieur    NaN                             NaN   \n",
       "5     146742    Congé  Monsieur    NaN                             NaN   \n",
       "39    146742  Présent  Monsieur    NaN  Signals, Images and Interfaces   \n",
       "\n",
       "                   semester     period is_autumn  date  date_help  \n",
       "11        Master semestre 3  2008-2009      True  2008     2008.5  \n",
       "14        Master semestre 1  2007-2008      True  2007     2007.5  \n",
       "17        Master semestre 2  2007-2008     False  2008     2008.0  \n",
       "5   Projet Master printemps  2010-2011     False  2011     2011.0  \n",
       "39        Master semestre 2  2009-2010     False  2010     2010.0  "
      ]
     },
     "execution_count": 408,
     "metadata": {},
     "output_type": "execute_result"
    }
   ],
   "source": [
    "# Add extracted information to ease our analysis\n",
    "filtered['is_autumn'] = filtered['semester'].apply(lambda x: is_autumn(x))\n",
    "filtered['date'] = filtered.apply(lambda x: int(x['period'].split(\"-\")[idx_to_keep(x['is_autumn'])]), axis=1)\n",
    "filtered['date_help'] = filtered.apply(lambda x: float(x.date) + (.5 if x.is_autumn else 0), axis=1)\n",
    "filtered.sort_values('No Sciper').head()"
   ]
  },
  {
   "cell_type": "code",
   "execution_count": 409,
   "metadata": {
    "collapsed": false,
    "scrolled": false
   },
   "outputs": [
    {
     "name": "stdout",
     "output_type": "stream",
     "text": [
      "748\n"
     ]
    },
    {
     "data": {
      "text/html": [
       "<div>\n",
       "<table border=\"1\" class=\"dataframe\">\n",
       "  <thead>\n",
       "    <tr style=\"text-align: right;\">\n",
       "      <th></th>\n",
       "      <th></th>\n",
       "      <th>add_semester</th>\n",
       "      <th>duration</th>\n",
       "      <th>minor</th>\n",
       "      <th>spe</th>\n",
       "      <th>start_date</th>\n",
       "    </tr>\n",
       "    <tr>\n",
       "      <th>No Sciper</th>\n",
       "      <th>Civilité</th>\n",
       "      <th></th>\n",
       "      <th></th>\n",
       "      <th></th>\n",
       "      <th></th>\n",
       "      <th></th>\n",
       "    </tr>\n",
       "  </thead>\n",
       "  <tbody>\n",
       "    <tr>\n",
       "      <th>146330</th>\n",
       "      <th>Monsieur</th>\n",
       "      <td>True</td>\n",
       "      <td>1.5</td>\n",
       "      <td>NaN</td>\n",
       "      <td>NaN</td>\n",
       "      <td>2007.5</td>\n",
       "    </tr>\n",
       "    <tr>\n",
       "      <th>146742</th>\n",
       "      <th>Monsieur</th>\n",
       "      <td>False</td>\n",
       "      <td>4.5</td>\n",
       "      <td>NaN</td>\n",
       "      <td>Signals, Images and Interfaces</td>\n",
       "      <td>2008.5</td>\n",
       "    </tr>\n",
       "    <tr>\n",
       "      <th>146929</th>\n",
       "      <th>Monsieur</th>\n",
       "      <td>True</td>\n",
       "      <td>1.0</td>\n",
       "      <td>NaN</td>\n",
       "      <td>NaN</td>\n",
       "      <td>2007.5</td>\n",
       "    </tr>\n",
       "    <tr>\n",
       "      <th>147008</th>\n",
       "      <th>Monsieur</th>\n",
       "      <td>True</td>\n",
       "      <td>2.0</td>\n",
       "      <td>NaN</td>\n",
       "      <td>NaN</td>\n",
       "      <td>2011.5</td>\n",
       "    </tr>\n",
       "    <tr>\n",
       "      <th>152232</th>\n",
       "      <th>Monsieur</th>\n",
       "      <td>True</td>\n",
       "      <td>1.5</td>\n",
       "      <td>Mineur en Management, technologie et entrepren...</td>\n",
       "      <td>NaN</td>\n",
       "      <td>2007.5</td>\n",
       "    </tr>\n",
       "  </tbody>\n",
       "</table>\n",
       "</div>"
      ],
      "text/plain": [
       "                   add_semester  duration  \\\n",
       "No Sciper Civilité                          \n",
       "146330    Monsieur         True       1.5   \n",
       "146742    Monsieur        False       4.5   \n",
       "146929    Monsieur         True       1.0   \n",
       "147008    Monsieur         True       2.0   \n",
       "152232    Monsieur         True       1.5   \n",
       "\n",
       "                                                                minor  \\\n",
       "No Sciper Civilité                                                      \n",
       "146330    Monsieur                                                NaN   \n",
       "146742    Monsieur                                                NaN   \n",
       "146929    Monsieur                                                NaN   \n",
       "147008    Monsieur                                                NaN   \n",
       "152232    Monsieur  Mineur en Management, technologie et entrepren...   \n",
       "\n",
       "                                               spe  start_date  \n",
       "No Sciper Civilité                                              \n",
       "146330    Monsieur                             NaN      2007.5  \n",
       "146742    Monsieur  Signals, Images and Interfaces      2008.5  \n",
       "146929    Monsieur                             NaN      2007.5  \n",
       "147008    Monsieur                             NaN      2011.5  \n",
       "152232    Monsieur                             NaN      2007.5  "
      ]
     },
     "execution_count": 409,
     "metadata": {},
     "output_type": "execute_result"
    }
   ],
   "source": [
    "grpd = filtered.groupby(['No Sciper', 'Civilité'])\n",
    "duration = grpd.apply(lambda x: max(x.date_help) - min(x.date_help) + .5)\n",
    "start_date = grpd.apply(lambda x: min(x.date_help))\n",
    "add = grpd.apply(lambda x: add_semester(x)).astype('category')\n",
    "minor = grpd.apply(lambda x: get_minor(x)).astype('category')\n",
    "spe = grpd.apply(lambda x: get_spe(x)).astype('category')\n",
    "\n",
    "print(len(add))\n",
    "df = pd.concat({'duration': duration, 'add_semester':add, 'spe':spe, 'minor':minor, 'start_date':start_date }, axis=1)\n",
    "df.head()"
   ]
  },
  {
   "cell_type": "code",
   "execution_count": 410,
   "metadata": {
    "collapsed": false
   },
   "outputs": [
    {
     "data": {
      "text/html": [
       "<div>\n",
       "<table border=\"1\" class=\"dataframe\">\n",
       "  <thead>\n",
       "    <tr style=\"text-align: right;\">\n",
       "      <th></th>\n",
       "      <th></th>\n",
       "      <th>add_semester</th>\n",
       "      <th>duration</th>\n",
       "      <th>minor</th>\n",
       "      <th>spe</th>\n",
       "      <th>start_date</th>\n",
       "      <th>time_elapsed</th>\n",
       "    </tr>\n",
       "    <tr>\n",
       "      <th>No Sciper</th>\n",
       "      <th>Civilité</th>\n",
       "      <th></th>\n",
       "      <th></th>\n",
       "      <th></th>\n",
       "      <th></th>\n",
       "      <th></th>\n",
       "      <th></th>\n",
       "    </tr>\n",
       "  </thead>\n",
       "  <tbody>\n",
       "    <tr>\n",
       "      <th>146330</th>\n",
       "      <th>Monsieur</th>\n",
       "      <td>True</td>\n",
       "      <td>1.5</td>\n",
       "      <td>NaN</td>\n",
       "      <td>NaN</td>\n",
       "      <td>2007.5</td>\n",
       "      <td>2.0</td>\n",
       "    </tr>\n",
       "    <tr>\n",
       "      <th>146742</th>\n",
       "      <th>Monsieur</th>\n",
       "      <td>False</td>\n",
       "      <td>4.5</td>\n",
       "      <td>NaN</td>\n",
       "      <td>Signals, Images and Interfaces</td>\n",
       "      <td>2008.5</td>\n",
       "      <td>4.5</td>\n",
       "    </tr>\n",
       "    <tr>\n",
       "      <th>146929</th>\n",
       "      <th>Monsieur</th>\n",
       "      <td>True</td>\n",
       "      <td>1.0</td>\n",
       "      <td>NaN</td>\n",
       "      <td>NaN</td>\n",
       "      <td>2007.5</td>\n",
       "      <td>1.5</td>\n",
       "    </tr>\n",
       "    <tr>\n",
       "      <th>147008</th>\n",
       "      <th>Monsieur</th>\n",
       "      <td>True</td>\n",
       "      <td>2.0</td>\n",
       "      <td>NaN</td>\n",
       "      <td>NaN</td>\n",
       "      <td>2011.5</td>\n",
       "      <td>2.5</td>\n",
       "    </tr>\n",
       "    <tr>\n",
       "      <th>152232</th>\n",
       "      <th>Monsieur</th>\n",
       "      <td>True</td>\n",
       "      <td>1.5</td>\n",
       "      <td>Mineur en Management, technologie et entrepren...</td>\n",
       "      <td>NaN</td>\n",
       "      <td>2007.5</td>\n",
       "      <td>2.0</td>\n",
       "    </tr>\n",
       "  </tbody>\n",
       "</table>\n",
       "</div>"
      ],
      "text/plain": [
       "                   add_semester  duration  \\\n",
       "No Sciper Civilité                          \n",
       "146330    Monsieur         True       1.5   \n",
       "146742    Monsieur        False       4.5   \n",
       "146929    Monsieur         True       1.0   \n",
       "147008    Monsieur         True       2.0   \n",
       "152232    Monsieur         True       1.5   \n",
       "\n",
       "                                                                minor  \\\n",
       "No Sciper Civilité                                                      \n",
       "146330    Monsieur                                                NaN   \n",
       "146742    Monsieur                                                NaN   \n",
       "146929    Monsieur                                                NaN   \n",
       "147008    Monsieur                                                NaN   \n",
       "152232    Monsieur  Mineur en Management, technologie et entrepren...   \n",
       "\n",
       "                                               spe  start_date  time_elapsed  \n",
       "No Sciper Civilité                                                            \n",
       "146330    Monsieur                             NaN      2007.5           2.0  \n",
       "146742    Monsieur  Signals, Images and Interfaces      2008.5           4.5  \n",
       "146929    Monsieur                             NaN      2007.5           1.5  \n",
       "147008    Monsieur                             NaN      2011.5           2.5  \n",
       "152232    Monsieur                             NaN      2007.5           2.0  "
      ]
     },
     "execution_count": 410,
     "metadata": {},
     "output_type": "execute_result"
    }
   ],
   "source": [
    "df['time_elapsed'] = df.apply(lambda x: x['duration'] + 0.5 if x['add_semester'] else x['duration'], axis=1)\n",
    "df.head()"
   ]
  },
  {
   "cell_type": "markdown",
   "metadata": {
    "collapsed": false
   },
   "source": [
    "### Average duration in master in computer science at EPFL"
   ]
  },
  {
   "cell_type": "code",
   "execution_count": 411,
   "metadata": {
    "collapsed": false
   },
   "outputs": [
    {
     "data": {
      "text/plain": [
       "<matplotlib.text.Text at 0x129b5a518>"
      ]
     },
     "execution_count": 411,
     "metadata": {},
     "output_type": "execute_result"
    },
    {
     "data": {
      "image/png": "[encoded data removed]",
      "text/plain": [
       "<matplotlib.figure.Figure at 0x129a9e8d0>"
      ]
     },
     "metadata": {},
     "output_type": "display_data"
    }
   ],
   "source": [
    "tmp = df.reset_index().groupby(['Civilité','time_elapsed'])['No Sciper'].count()\n",
    "tmp = tmp.groupby(level=0).apply(lambda x: 100*x/float(x.sum()))\n",
    "tmp = tmp.unstack(level=0)\n",
    "graph = tmp.plot(kind='bar')\n",
    "graph.set_xlabel('Length (in year)')\n",
    "graph.set_ylabel('Percentage')\n",
    "graph.set_title('Master length by sex')"
   ]
  },
  {
   "cell_type": "code",
   "execution_count": 412,
   "metadata": {
    "collapsed": false
   },
   "outputs": [
    {
     "name": "stdout",
     "output_type": "stream",
     "text": [
      "Average duration for masters students at EPFL: 4.255347593582887 semesters\n"
     ]
    }
   ],
   "source": [
    "avg_master = df['time_elapsed'].mean()\n",
    "print('Average duration for masters students at EPFL: {} semesters'.format(avg_master*2))"
   ]
  },
  {
   "cell_type": "markdown",
   "metadata": {},
   "source": [
    "It is important to take into account that master students doing a minor or specialization are skewing the average to a higher value, we can thus look at the mean for student doing minor/specialization and students who don't."
   ]
  },
  {
   "cell_type": "code",
   "execution_count": 279,
   "metadata": {
    "collapsed": false
   },
   "outputs": [
    {
     "name": "stdout",
     "output_type": "stream",
     "text": [
      "Number of students with a minor/spe: 288 (38.50267379679144%)\n",
      "  Avergage stay: 4.791666666666667 semesters\n",
      "Number of students without a minor/spe: 460 (61.49732620320856%)\n",
      "  Avergage stay: 3.9195652173913045 semesters\n"
     ]
    }
   ],
   "source": [
    "students_l = df[~df['minor'].isnull() | ~df['spe'].isnull()]\n",
    "students_s = df[df['minor'].isnull() & df['spe'].isnull()]\n",
    "avg_master_s = students_s['time_elapsed'].mean()\n",
    "avg_master_l = students_l['time_elapsed'].mean()\n",
    "print(\"Number of students with a minor/spe: {} ({}%)\".format(len(students_l), len(students_l)*100.0 / len(df) ))\n",
    "print(\"  Avergage stay: {} semesters\".format(avg_master_l*2))\n",
    "print(\"Number of students without a minor/spe: {} ({}%)\".format(len(students_s), len(students_s)*100.0 / len(df)))\n",
    "print(\"  Avergage stay: {} semesters\".format(avg_master_s*2))"
   ]
  },
  {
   "cell_type": "markdown",
   "metadata": {
    "collapsed": false
   },
   "source": [
    "### Average duration per specialization\n",
    "\n"
   ]
  },
  {
   "cell_type": "code",
   "execution_count": null,
   "metadata": {
    "collapsed": false
   },
   "outputs": [],
   "source": []
  },
  {
   "cell_type": "markdown",
   "metadata": {},
   "source": [
    "# Q3 : Bonus"
   ]
  },
  {
   "cell_type": "code",
   "execution_count": 362,
   "metadata": {
    "collapsed": false
   },
   "outputs": [
    {
     "data": {
      "text/plain": [
       "<matplotlib.text.Text at 0x1290649e8>"
      ]
     },
     "execution_count": 362,
     "metadata": {},
     "output_type": "execute_result"
    },
    {
     "data": {
      "image/png": "[encoded data removed]",
      "text/plain": [
       "<matplotlib.figure.Figure at 0x128626b38>"
      ]
     },
     "metadata": {},
     "output_type": "display_data"
    }
   ],
   "source": [
    "def scatter_ma(df, color='blue', ax=None):\n",
    "    g = df.groupby([\"start_date\", \"time_elapsed\"]).size().reset_index(name='count')\n",
    "    return g.plot(kind='scatter',x ='start_date', y='time_elapsed',s=g['count']*50, color=color, figsize=(20, 10), ax=ax)\n",
    "\n",
    "d = df.reset_index()\n",
    "ax = scatter_ma(d[d['Civilité'] == 'Monsieur'])\n",
    "f_graph = scatter_ma(d[d['Civilité'] == 'Madame'], color='red', ax=ax)\n",
    "ax.set_xlabel('Start date (in year)')\n",
    "ax.set_ylabel('Duration in year')\n",
    "ax.set_title('Master length by sex and starting date')"
   ]
  },
  {
   "cell_type": "code",
   "execution_count": null,
   "metadata": {
    "collapsed": true
   },
   "outputs": [],
   "source": []
  }
 ],
 "metadata": {
  "anaconda-cloud": {},
  "kernelspec": {
   "display_name": "Python [Root]",
   "language": "python",
   "name": "Python [Root]"
  },
  "language_info": {
   "codemirror_mode": {
    "name": "ipython",
    "version": 3
   },
   "file_extension": ".py",
   "mimetype": "text/x-python",
   "name": "python",
   "nbconvert_exporter": "python",
   "pygments_lexer": "ipython3",
   "version": "3.5.2"
  }
 },
 "nbformat": 4,
 "nbformat_minor": 0
}
