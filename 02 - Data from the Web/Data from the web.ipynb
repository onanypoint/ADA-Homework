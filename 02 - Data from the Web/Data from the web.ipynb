{
 "cells": [
  {
   "cell_type": "code",
   "execution_count": null,
   "metadata": {
    "collapsed": true,
    "scrolled": true
   },
   "outputs": [],
   "source": [
    "import requests\n",
    "from bs4 import BeautifulSoup\n",
    "import pandas as pd\n",
    "import numpy as np\n",
    "import urllib.parse\n",
    "import re"
   ]
  },
  {
   "cell_type": "markdown",
   "metadata": {},
   "source": [
    "We can see two base url used to retrive data, the ```URL_FORM_BASE``` for the form and ```URL_DATA_BASE``` for the data (the table which contains the actual information)."
   ]
  },
  {
   "cell_type": "code",
   "execution_count": null,
   "metadata": {
    "collapsed": true,
    "scrolled": true
   },
   "outputs": [],
   "source": [
    "URL_FORM_BASE = \"http://isa.epfl.ch/imoniteur_ISAP/!GEDPUBLICREPORTS.filter\"\n",
    "URL_DATA_BASE = \"http://isa.epfl.ch/imoniteur_ISAP/!GEDPUBLICREPORTS.html\""
   ]
  },
  {
   "cell_type": "markdown",
   "metadata": {},
   "source": [
    "By first inspecting the source code of the page we can see that the form has some hidden field, they indicate to the backend what kind of data to retrieve. We can thus form a dictionary of \"default parameters\"."
   ]
  },
  {
   "cell_type": "code",
   "execution_count": null,
   "metadata": {
    "collapsed": false,
    "scrolled": true
   },
   "outputs": [],
   "source": [
    "FORM_PARAM_DEFAULT = {\n",
    "    \"ww_v_list\" : 1,\n",
    "    \"ww_i_reportmodel\": \"133685247\",\n",
    "    #\"ww_c_langue\": 'en',\n",
    "}"
   ]
  },
  {
   "cell_type": "markdown",
   "metadata": {},
   "source": [
    "We then take interest in the form itself. We can see that we have 5 different fields each with a specific name attribute. (When the form is \"posted\" the name attribute is used to generate the url). We can thus retrieve all the options for each field relying on his name attribute.\n",
    "\n",
    "We will only work with the HTML data so we directly take the parameters from the source code and don't bother to parse the HMTL page to retrieve it (for HMTL use a value of 133685270 for the ww_i_reportModelXsl attribute)."
   ]
  },
  {
   "cell_type": "code",
   "execution_count": null,
   "metadata": {
    "collapsed": false,
    "scrolled": true
   },
   "outputs": [],
   "source": [
    "def request2soup(url, params):\n",
    "    r = requests.get(url, params=params)\n",
    "    assert r.status_code == 200\n",
    "    return BeautifulSoup(r.text, \"lxml\")\n",
    "\n",
    "def get_select_options(soup, name_attr):\n",
    "    data = soup.select('select[name={}]'.format(name_attr))[0] #We assume that we have only one field with a specific name\n",
    "    options = {option['value']: option.text for option in data.find_all('option', value=True, selected=False) if  option.text != ''}\n",
    "    return options\n",
    "\n",
    "def get_fields_options(soup, fields):\n",
    "    form_options = {}\n",
    "    for key, value in fields.items():\n",
    "        form_options[value] = get_select_options(soup, value)\n",
    "    \n",
    "    return form_options\n",
    "\n",
    "FORM_FIELDS = {\n",
    "    # Label : Name Attribute\n",
    "    'Unité académique': 'ww_x_UNITE_ACAD',\n",
    "    'Période académique': 'ww_x_PERIODE_ACAD',\n",
    "    'Période pédagogique': 'ww_x_PERIODE_PEDAGO',\n",
    "    'Type de semestre': 'ww_x_HIVERETE',\n",
    "}\n",
    "\n",
    "soup_index = request2soup(URL_FORM_BASE, FORM_PARAM_DEFAULT)\n",
    "\n",
    "FORM_FIELDS_OPTIONS = get_fields_options(soup_index, FORM_FIELDS)"
   ]
  },
  {
   "cell_type": "code",
   "execution_count": null,
   "metadata": {
    "collapsed": false,
    "scrolled": true
   },
   "outputs": [],
   "source": [
    "FORM_FIELDS_OPTIONS"
   ]
  },
  {
   "cell_type": "markdown",
   "metadata": {},
   "source": [
    "By submiting the form, we get a table filled with links at the bottom of the form back. Of course ISA does not want to play it simple and rely instead of the href attribute to javascript for the link behaviour. A link when clicked call the js function \"loadReport\" which generate the \"data url\", the url from which we will be able to get data we are interested in. This url is normally used to fill a frame inside the page. But we can use it directly. "
   ]
  },
  {
   "cell_type": "markdown",
   "metadata": {},
   "source": [
    "We first create a \"metadata\" dataframe so ease our further investigation"
   ]
  },
  {
   "cell_type": "code",
   "execution_count": null,
   "metadata": {
    "collapsed": false,
    "scrolled": true
   },
   "outputs": [],
   "source": [
    "def get_form_url(params):\n",
    "    return URL_FORM_BASE + \"?\" + urllib.parse.urlencode(dict(params, **FORM_PARAM_DEFAULT))\n",
    "\n",
    "def get_data_url(params, GPS=-1, type=133685270):\n",
    "    p = {'ww_x_GPS': GPS, 'ww_i_reportModelXsl': type}\n",
    "    return URL_DATA_BASE + \"?\" + urllib.parse.urlencode(dict(dict(params, **FORM_PARAM_DEFAULT), **p))"
   ]
  },
  {
   "cell_type": "markdown",
   "metadata": {
    "collapsed": false
   },
   "source": [
    "--------------"
   ]
  },
  {
   "cell_type": "code",
   "execution_count": null,
   "metadata": {
    "collapsed": true
   },
   "outputs": [],
   "source": [
    "BACHELOR = {  \n",
    "    '249108': 'Bachelor semestre 1',\n",
    "    '249114': 'Bachelor semestre 2',\n",
    "    '942155': 'Bachelor semestre 3',\n",
    "    '942163': 'Bachelor semestre 4',\n",
    "    '942120': 'Bachelor semestre 5',\n",
    "    '942175': 'Bachelor semestre 6',\n",
    "    #'2226768': 'Bachelor semestre 5b',\n",
    "    #'2226785': 'Bachelor semestre 6b',\n",
    "}\n",
    "\n",
    "def get_bachelor_data():\n",
    "    data_list = []\n",
    "    \n",
    "    for peda in BACHELOR:\n",
    "        for period in FORM_FIELDS_OPTIONS['ww_x_PERIODE_ACAD']:\n",
    "            params = {\n",
    "                'ww_x_UNITE_ACAD': 249847,\n",
    "                'ww_x_PERIODE_ACAD': period,\n",
    "                'ww_x_PERIODE_PEDAGO': peda,\n",
    "                'ww_x_HIVERETE': '',\n",
    "            } \n",
    "            try: \n",
    "                data = pd.read_html(get_data_url(params), header=1)[0]\n",
    "                df = data.copy()[['No Sciper', 'Statut', 'Civilité']]\n",
    "                df['semester'] = BACHELOR[peda]\n",
    "                df['period'] = FORM_FIELDS_OPTIONS['ww_x_PERIODE_ACAD'][period]\n",
    "                data_list.append(df)\n",
    "            except:\n",
    "                print(\"No Data : \" +  BACHELOR[peda] + \" \" + FORM_FIELDS_OPTIONS['ww_x_PERIODE_ACAD'][period])\n",
    "        \n",
    "    d = pd.concat(data_list) \n",
    "    return d"
   ]
  },
  {
   "cell_type": "code",
   "execution_count": null,
   "metadata": {
    "collapsed": false
   },
   "outputs": [],
   "source": [
    "d = get_bachelor_data()\n",
    "d['No Sciper'] = d['No Sciper'].apply(str)\n",
    "f = d.copy()"
   ]
  },
  {
   "cell_type": "code",
   "execution_count": null,
   "metadata": {
    "collapsed": false
   },
   "outputs": [],
   "source": [
    "grouped = d.groupby(['No Sciper'])\n",
    "filtered = grouped.filter(lambda x: len(x.values) >= 2 and \"Bachelor semestre 1\" in x.values and \"Bachelor semestre 6\" in x.values)\n",
    "filtered = filtered.set_index(['No Sciper','semester']).sort_index().head(100)"
   ]
  },
  {
   "cell_type": "code",
   "execution_count": null,
   "metadata": {
    "collapsed": false
   },
   "outputs": [],
   "source": [
    "filtered.head(100)"
   ]
  }
 ],
 "metadata": {
  "anaconda-cloud": {},
  "kernelspec": {
   "display_name": "Python [Root]",
   "language": "python",
   "name": "Python [Root]"
  },
  "language_info": {
   "codemirror_mode": {
    "name": "ipython",
    "version": 3
   },
   "file_extension": ".py",
   "mimetype": "text/x-python",
   "name": "python",
   "nbconvert_exporter": "python",
   "pygments_lexer": "ipython3",
   "version": "3.5.2"
  }
 },
 "nbformat": 4,
 "nbformat_minor": 0
}
