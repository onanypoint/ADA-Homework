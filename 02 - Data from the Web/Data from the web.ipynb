{
 "cells": [
  {
   "cell_type": "code",
   "execution_count": null,
   "metadata": {
    "collapsed": true,
    "scrolled": true
   },
   "outputs": [],
   "source": [
    "%matplotlib inline\n",
    "import requests\n",
    "from bs4 import BeautifulSoup\n",
    "import pandas as pd\n",
    "import numpy as np\n",
    "import scipy as sp\n",
    "import urllib.parse\n",
    "import re"
   ]
  },
  {
   "cell_type": "markdown",
   "metadata": {},
   "source": [
    "We can see two base url used to retrive data, the ```URL_FORM_BASE``` for the form and ```URL_DATA_BASE``` for the data (the table which contains the actual information)."
   ]
  },
  {
   "cell_type": "code",
   "execution_count": null,
   "metadata": {
    "collapsed": true,
    "scrolled": true
   },
   "outputs": [],
   "source": [
    "URL_FORM_BASE = \"http://isa.epfl.ch/imoniteur_ISAP/!GEDPUBLICREPORTS.filter\"\n",
    "URL_DATA_BASE = \"http://isa.epfl.ch/imoniteur_ISAP/!GEDPUBLICREPORTS.html\""
   ]
  },
  {
   "cell_type": "markdown",
   "metadata": {},
   "source": [
    "By first inspecting the source code of the page we can see that the form has some hidden field, they indicate to the backend what kind of data to retrieve. We can thus form a dictionary of \"default parameters\"."
   ]
  },
  {
   "cell_type": "code",
   "execution_count": null,
   "metadata": {
    "collapsed": false,
    "scrolled": true
   },
   "outputs": [],
   "source": [
    "FORM_PARAM_DEFAULT = {\n",
    "    \"ww_v_list\" : 1,\n",
    "    \"ww_i_reportmodel\": \"133685247\",\n",
    "    #\"ww_c_langue\": 'en',\n",
    "}"
   ]
  },
  {
   "cell_type": "markdown",
   "metadata": {},
   "source": [
    "We then take interest in the form itself. We can see that we have 5 different fields each with a specific name attribute. (When the form is \"posted\" the name attribute is used to generate the url). We can thus retrieve all the options for each field relying on his name attribute.\n",
    "\n",
    "We will only work with the HTML data so we directly take the parameters from the source code and don't bother to parse the HMTL page to retrieve it (for HMTL use a value of 133685270 for the ww_i_reportModelXsl attribute)."
   ]
  },
  {
   "cell_type": "code",
   "execution_count": null,
   "metadata": {
    "collapsed": false,
    "scrolled": true
   },
   "outputs": [],
   "source": [
    "def request2soup(url, params):\n",
    "    r = requests.get(url, params=params)\n",
    "    assert r.status_code == 200\n",
    "    return BeautifulSoup(r.text, \"lxml\")\n",
    "\n",
    "def get_select_options(soup, name_attr):\n",
    "    data = soup.select('select[name={}]'.format(name_attr))[0] #We assume that we have only one field with a specific name\n",
    "    options = {option['value']: option.text for option in data.find_all('option', value=True, selected=False) if  option.text != ''}\n",
    "    return options\n",
    "\n",
    "def get_fields_options(soup, fields):\n",
    "    form_options = {}\n",
    "    for key, value in fields.items():\n",
    "        form_options[value] = get_select_options(soup, value)\n",
    "    \n",
    "    return form_options\n",
    "\n",
    "FORM_FIELDS = {\n",
    "    # Label : Name Attribute\n",
    "    'Unité académique': 'ww_x_UNITE_ACAD',\n",
    "    'Période académique': 'ww_x_PERIODE_ACAD',\n",
    "    'Période pédagogique': 'ww_x_PERIODE_PEDAGO',\n",
    "    'Type de semestre': 'ww_x_HIVERETE',\n",
    "}\n",
    "\n",
    "soup_index = request2soup(URL_FORM_BASE, FORM_PARAM_DEFAULT)\n",
    "\n",
    "FORM_FIELDS_OPTIONS = get_fields_options(soup_index, FORM_FIELDS)"
   ]
  },
  {
   "cell_type": "code",
   "execution_count": null,
   "metadata": {
    "collapsed": false,
    "scrolled": true
   },
   "outputs": [],
   "source": [
    "FORM_FIELDS_OPTIONS"
   ]
  },
  {
   "cell_type": "markdown",
   "metadata": {},
   "source": [
    "By submiting the form, we get a table filled with links at the bottom of the form back. Of course ISA does not want to play it simple and rely instead of the href attribute to javascript for the link behaviour. A clicked link call the js function \"loadReport\" which generate the \"data url\" based on the ww_x_GPS attribute. "
   ]
  },
  {
   "cell_type": "markdown",
   "metadata": {},
   "source": [
    "First we define two utilities function to generate for us the complete url based on the given parameters."
   ]
  },
  {
   "cell_type": "code",
   "execution_count": null,
   "metadata": {
    "collapsed": false,
    "scrolled": true
   },
   "outputs": [],
   "source": [
    "# Get Url for the form page (the one with the links)\n",
    "def get_form_url(params):\n",
    "    return URL_FORM_BASE + \"?\" + urllib.parse.urlencode(dict(params, **FORM_PARAM_DEFAULT))\n",
    "\n",
    "# Get Url for the data page (the one with the table of students information)\n",
    "def get_data_url(params, GPS=-1, type=133685270):\n",
    "    p = {'ww_x_GPS': GPS, 'ww_i_reportModelXsl': type}\n",
    "    return URL_DATA_BASE + \"?\" + urllib.parse.urlencode(dict(dict(params, **FORM_PARAM_DEFAULT), **p))"
   ]
  },
  {
   "cell_type": "markdown",
   "metadata": {},
   "source": [
    "Instead of parsing the form page to retrieve the ww_x_GPS attribute, we generate directly the data url based on the form options discovered above."
   ]
  },
  {
   "cell_type": "code",
   "execution_count": null,
   "metadata": {
    "collapsed": false
   },
   "outputs": [],
   "source": [
    "# Returns a dataframe containing all the student information from 2007 to 2016 for the given pedagogic period\n",
    "def get_data(period_peda, columns):\n",
    "    data_list = []\n",
    "    for peda in period_peda:\n",
    "        for period in FORM_FIELDS_OPTIONS['ww_x_PERIODE_ACAD']:\n",
    "            params = {\n",
    "                'ww_x_UNITE_ACAD': 249847, # hard coded: only interested in the computer science faculty\n",
    "                'ww_x_PERIODE_ACAD': period,\n",
    "                'ww_x_PERIODE_PEDAGO': peda,\n",
    "                'ww_x_HIVERETE': '',\n",
    "            }  \n",
    "            \n",
    "            try: \n",
    "                # By specifying ww_x_UNITE_ACAD, ww_x_PERIODE_ACAD, ww_x_PERIODE_PEDAGO we are sur \n",
    "                # that only one table will be present on the page. Indeed there was only one BA1 class in year\n",
    "                # for the computer science faculty\n",
    "                data = pd.read_html(get_data_url(params), header=1)[0]\n",
    "                df = data.copy()[columns] # Only keep interesting columns\n",
    "                df['semester'] = period_peda[peda] # Add semester information\n",
    "                df['period'] = FORM_FIELDS_OPTIONS['ww_x_PERIODE_ACAD'][period] # Add period information\n",
    "                data_list.append(df)\n",
    "            except:\n",
    "                # read_html might throw an error if there is no table in the page\n",
    "                print(\"No Data : \" +  period_peda[peda] + \" \" + FORM_FIELDS_OPTIONS['ww_x_PERIODE_ACAD'][period])\n",
    "        \n",
    "    d = pd.concat(data_list) \n",
    "    return d"
   ]
  },
  {
   "cell_type": "markdown",
   "metadata": {
    "collapsed": false
   },
   "source": [
    "--------------"
   ]
  },
  {
   "cell_type": "markdown",
   "metadata": {},
   "source": [
    "# Q1 : Bachelor Data Analysis"
   ]
  },
  {
   "cell_type": "code",
   "execution_count": null,
   "metadata": {
    "collapsed": false
   },
   "outputs": [],
   "source": [
    "bachelor = {  \n",
    "    '249108': 'Bachelor semestre 1',\n",
    "    '249114': 'Bachelor semestre 2',\n",
    "    '942155': 'Bachelor semestre 3',\n",
    "    '942163': 'Bachelor semestre 4',\n",
    "    '942120': 'Bachelor semestre 5',\n",
    "    '942175': 'Bachelor semestre 6',\n",
    "    #'2226768': 'Bachelor semestre 5b', # No data\n",
    "    #'2226785': 'Bachelor semestre 6b', # No data\n",
    "}\n",
    "columns = ['No Sciper', 'Statut', 'Civilité']\n",
    "\n",
    "# Retrieve the data\n",
    "d = get_data(bachelor, columns)\n",
    "d['No Sciper'] = d['No Sciper'].apply(str)\n",
    "bachelor = d.copy()"
   ]
  },
  {
   "cell_type": "markdown",
   "metadata": {},
   "source": [
    "Now that we have the data in a pandas dataframe we can start working on it."
   ]
  },
  {
   "cell_type": "markdown",
   "metadata": {},
   "source": [
    "# TODO\n",
    "\n",
    "### Assumption\n",
    " * how we computed the time elapsed esp. the + .5 in the formula\n",
    " * why there are already values for year 2017 (student abroad for 3rd year)\n",
    " * How did a guy spent 7 years for his bachelor (one year break)"
   ]
  },
  {
   "cell_type": "code",
   "execution_count": null,
   "metadata": {
    "collapsed": true
   },
   "outputs": [],
   "source": [
    "# Return if Dataframe has both ba1 ba6 entries\n",
    "first_and_last = lambda semesters: \"Bachelor semestre 1\" in semesters and \"Bachelor semestre 6\" in semesters\n",
    "# Return if the semester is an autumn semester or not\n",
    "is_autumn = lambda sem: int(sem[-1:]) % 2 == 1\n",
    "# Return if we should keed the row (based on the is_autumn result)\n",
    "idx_to_keep = lambda sem: 0 if sem else 1"
   ]
  },
  {
   "cell_type": "code",
   "execution_count": null,
   "metadata": {
    "collapsed": false
   },
   "outputs": [],
   "source": [
    "grouped = d.groupby(['No Sciper'])\n",
    "# Only keep the student for which we have at least information about BA1 and BA6\n",
    "filtered = grouped.filter(lambda x: len(x.values) >= 2 and first_and_last(x.values)).copy()"
   ]
  },
  {
   "cell_type": "code",
   "execution_count": null,
   "metadata": {
    "collapsed": false
   },
   "outputs": [],
   "source": [
    "# Add extracted information to ease our analysis\n",
    "filtered['is_autumn'] = filtered['semester'].apply(lambda x: is_autumn(x))\n",
    "filtered['date'] = filtered.apply(lambda x: int(x['period'].split(\"-\")[idx_to_keep(x['is_autumn'])]), axis=1)\n",
    "filtered['date_help'] = filtered.apply(lambda x: float(x.date) + (.5 if x.is_autumn else 0), axis=1)"
   ]
  },
  {
   "cell_type": "code",
   "execution_count": null,
   "metadata": {
    "collapsed": false
   },
   "outputs": [],
   "source": [
    "grpd = filtered.groupby(['No Sciper'])\n",
    "duration = grpd.apply(lambda x: max(x.date_help) - min(x.date_help) + .5)\n",
    "# Finally add total time spend in bachelor\n",
    "filtered['time_elapsed'] = filtered['No Sciper'].apply(lambda sciper: duration[sciper])"
   ]
  },
  {
   "cell_type": "code",
   "execution_count": null,
   "metadata": {
    "collapsed": false
   },
   "outputs": [],
   "source": [
    "# Strip down the dataframe to a more usefull representation\n",
    "df = filtered.groupby(['No Sciper'])['Civilité', 'time_elapsed'].agg(lambda x:x.value_counts().index[0])"
   ]
  },
  {
   "cell_type": "markdown",
   "metadata": {},
   "source": [
    "#### Duration distribution by sex\n",
    "# TODO Comments"
   ]
  },
  {
   "cell_type": "code",
   "execution_count": null,
   "metadata": {
    "collapsed": false
   },
   "outputs": [],
   "source": [
    "tmp = df.reset_index().groupby(['Civilité','time_elapsed']).count()\n",
    "tmp = tmp.groupby(level=0).apply(lambda x: 100*x/float(x.sum()))\n",
    "tmp = tmp.unstack(level=0)\n",
    "graph = tmp.plot(kind='bar')\n",
    "graph.set_xlabel('Length (in year)')\n",
    "graph.set_ylabel('Percentage')\n",
    "graph.set_title('Bachelor length by sex')"
   ]
  },
  {
   "cell_type": "markdown",
   "metadata": {},
   "source": [
    "#### Duration mean by sex\n",
    "# TODO Comments & Hypothesis testing\n",
    "Talk about the fact that the number of women is low thus a single occurence of a high number of semester might skew the whole thing"
   ]
  },
  {
   "cell_type": "code",
   "execution_count": null,
   "metadata": {
    "collapsed": false
   },
   "outputs": [],
   "source": [
    "df.groupby(['Civilité']).describe()"
   ]
  },
  {
   "cell_type": "markdown",
   "metadata": {},
   "source": [
    "# Q2 : Master Data Analysis"
   ]
  },
  {
   "cell_type": "code",
   "execution_count": null,
   "metadata": {
    "collapsed": false
   },
   "outputs": [],
   "source": [
    "master = {  \n",
    "    #'953137':  'Stage automne 3ème année', # No Data\n",
    "    #'983606':  'Stage printemps 3ème année', # No Data\n",
    "    #'2226616': 'Stage automne 4ème année', # No Data\n",
    "    #'2226626': 'Stage printemps 4ème année', # No Data\n",
    "    #'2227132': 'Stage printemps master', # No Data\n",
    "    '2230106': 'Master semestre 1',\n",
    "    '942192':  'Master semestre 2',\n",
    "    '2230128': 'Master semestre 3',\n",
    "    #'2230140': 'Master semestre 4', # No Data\n",
    "    #'2335667': 'Mineur semestre 1', # No Data\n",
    "    #'2335676': 'Mineur semestre 2', # No Data\n",
    "    #'2754553': 'Semestre printemps', # No Data\n",
    "    #'953159':  'Semestre automne', # No Data\n",
    "    '249127':  'Projet Master automne',\n",
    "    '3781783': 'Projet Master printemps',\n",
    "}\n",
    "\n",
    "\n",
    "columns = ['No Sciper', 'Statut', 'Civilité', 'Mineur', 'Spécialisation',]\n",
    "\n",
    "# Retrieve the data\n",
    "d = get_data(master, columns)\n",
    "d['No Sciper'] = d['No Sciper'].apply(str)\n",
    "master = d.copy()"
   ]
  },
  {
   "cell_type": "code",
   "execution_count": null,
   "metadata": {
    "collapsed": false
   },
   "outputs": [],
   "source": [
    "master.head()"
   ]
  },
  {
   "cell_type": "markdown",
   "metadata": {},
   "source": [
    "# TODO\n",
    "\n",
    "### Assumption\n",
    " * Assumes that if a student had once a minor, he has to do his master in at least three semester\n",
    " * Don't verify that a student that has a minor and a stage do 4 semester with courses\n",
    " * If student has neither a entry for PDM or a mention of a stage semester we add 6 months to the duration\n",
    " * If student has only a stage semester add 6 months for the PDM\n",
    " * If student has only PDM, don't add anything"
   ]
  },
  {
   "cell_type": "code",
   "execution_count": null,
   "metadata": {
    "collapsed": false
   },
   "outputs": [],
   "source": [
    "# Return if student has finished his master\n",
    "def first_and_last(rows):\n",
    "    minor = sum([np.nan in [x[3]] for x in list]) > 0\n",
    "    spe = sum([np.nan in [x[4]] for x in list]) > 0\n",
    "    \n",
    "    if minor or spe:\n",
    "        return \"Master semestre 1\" in rows and \"Master semestre 3\" in rows\n",
    "\n",
    "    return \"Master semestre 1\" in rows and \"Master semestre 2\" in rows\n",
    "    \n",
    "# Return if the semester is an autumn semester or not\n",
    "def is_autumn(sem):\n",
    "    if 'automne' in sem:\n",
    "        return True\n",
    "    elif 'printemps' in sem:\n",
    "        return False\n",
    "    else:\n",
    "        return int(sem[-1:]) % 2 == 1  \n",
    "    \n",
    "# Return if we should keed the row (based on the is_autumn result)\n",
    "idx_to_keep = lambda sem: 0 if sem else 1\n",
    "\n",
    "def add_semester(rows):\n",
    "    projet = rows['semester'].str.contains('Projet').max()\n",
    "    stage = rows['Statut'].str.contains('Stage').max()\n",
    "    return (not projet and stage) or (not projet and not stage)\n",
    "\n",
    "def get_spe(rows):\n",
    "    spe = rows[rows['semester'] == 'Master semestre 3']['Spécialisation'].value_counts()\n",
    "    if len(spe):\n",
    "        assert len(spe) == 1\n",
    "        return spe.index[0]\n",
    "    return None\n",
    "\n",
    "def get_minor(rows):\n",
    "    spe = rows[rows['semester'] == 'Master semestre 3']['Mineur'].value_counts()\n",
    "    if len(spe):\n",
    "        assert len(spe) == 1\n",
    "        return spe.index[0]\n",
    "    return None"
   ]
  },
  {
   "cell_type": "code",
   "execution_count": null,
   "metadata": {
    "collapsed": false
   },
   "outputs": [],
   "source": [
    "grouped = d.groupby(['No Sciper'])\n",
    "# Only keep the student for which we have information about at least MA1 and MA2\n",
    "filtered = grouped.filter(lambda x: len(x.values) >= 2 and first_and_last(x.values)).copy()"
   ]
  },
  {
   "cell_type": "code",
   "execution_count": null,
   "metadata": {
    "collapsed": false
   },
   "outputs": [],
   "source": [
    "# Add extracted information to ease our analysis\n",
    "filtered['is_autumn'] = filtered['semester'].apply(lambda x: is_autumn(x))\n",
    "filtered['date'] = filtered.apply(lambda x: int(x['period'].split(\"-\")[idx_to_keep(x['is_autumn'])]), axis=1)\n",
    "filtered['date_help'] = filtered.apply(lambda x: float(x.date) + (.5 if x.is_autumn else 0), axis=1)"
   ]
  },
  {
   "cell_type": "code",
   "execution_count": null,
   "metadata": {
    "collapsed": false,
    "scrolled": false
   },
   "outputs": [],
   "source": [
    "grpd = filtered.groupby(['No Sciper', 'Civilité'])\n",
    "duration = grpd.apply(lambda x: max(x.date_help) - min(x.date_help) + .5)\n",
    "add = grpd.apply(lambda x: add_semester(x)).astype('category')\n",
    "minor = grpd.apply(lambda x: get_minor(x)).astype('category')\n",
    "spe = grpd.apply(lambda x: get_spe(x)).astype('category')\n",
    "\n",
    "print(len(add))\n",
    "df = pd.concat({'duration': duration, 'add_semester':add, 'spe':spe, 'minor':minor }, axis=1)\n",
    "df.head()"
   ]
  },
  {
   "cell_type": "code",
   "execution_count": null,
   "metadata": {
    "collapsed": false
   },
   "outputs": [],
   "source": []
  },
  {
   "cell_type": "code",
   "execution_count": null,
   "metadata": {
    "collapsed": false
   },
   "outputs": [],
   "source": []
  },
  {
   "cell_type": "code",
   "execution_count": null,
   "metadata": {
    "collapsed": true
   },
   "outputs": [],
   "source": []
  }
 ],
 "metadata": {
  "anaconda-cloud": {},
  "kernelspec": {
   "display_name": "Python [Root]",
   "language": "python",
   "name": "Python [Root]"
  },
  "language_info": {
   "codemirror_mode": {
    "name": "ipython",
    "version": 3
   },
   "file_extension": ".py",
   "mimetype": "text/x-python",
   "name": "python",
   "nbconvert_exporter": "python",
   "pygments_lexer": "ipython3",
   "version": "3.5.2"
  }
 },
 "nbformat": 4,
 "nbformat_minor": 0
}
