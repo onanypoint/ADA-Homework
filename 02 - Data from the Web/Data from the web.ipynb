{
 "cells": [
  {
   "cell_type": "code",
   "execution_count": 84,
   "metadata": {
    "collapsed": true,
    "scrolled": true
   },
   "outputs": [],
   "source": [
    "import requests\n",
    "from bs4 import BeautifulSoup\n",
    "import pandas as pd\n",
    "import numpy as np\n",
    "import urllib.parse\n",
    "import re"
   ]
  },
  {
   "cell_type": "markdown",
   "metadata": {},
   "source": [
    "We can see two base url used to retrive data, the ```URL_FORM_BASE``` for the form and ```URL_DATA_BASE``` for the data (the table which contains the actual information)."
   ]
  },
  {
   "cell_type": "code",
   "execution_count": 7,
   "metadata": {
    "collapsed": true,
    "scrolled": true
   },
   "outputs": [],
   "source": [
    "URL_FORM_BASE = \"http://isa.epfl.ch/imoniteur_ISAP/!GEDPUBLICREPORTS.filter\"\n",
    "URL_DATA_BASE = \"http://isa.epfl.ch/imoniteur_ISAP/!GEDPUBLICREPORTS.html\""
   ]
  },
  {
   "cell_type": "markdown",
   "metadata": {},
   "source": [
    "By first inspecting the source code of the page we can see that the form has some hidden field, they indicate to the backend what kind of data to retrieve. We can thus form a dictionary of \"default parameters\"."
   ]
  },
  {
   "cell_type": "code",
   "execution_count": 49,
   "metadata": {
    "collapsed": false,
    "scrolled": true
   },
   "outputs": [],
   "source": [
    "FORM_PARAM_DEFAULT = {\n",
    "    \"ww_v_list\" : 1,\n",
    "    \"ww_i_reportmodel\": \"133685247\",\n",
    "    #\"ww_c_langue\": 'en',\n",
    "}"
   ]
  },
  {
   "cell_type": "markdown",
   "metadata": {},
   "source": [
    "We then take interest in the form itself. We can see that we have 5 different fields each with a specific name attribute. (When the form is \"posted\" the name attribute is used to generate the url). We can thus retrieve all the options for each field relying on his name attribute.\n",
    "\n",
    "We will only work with the HTML data so we directly take the parameters from the source code and don't bother to parse the HMTL page to retrieve it (for HMTL use a value of 133685270 for the ww_i_reportModelXsl attribute)."
   ]
  },
  {
   "cell_type": "code",
   "execution_count": 55,
   "metadata": {
    "collapsed": false,
    "scrolled": true
   },
   "outputs": [],
   "source": [
    "def request2soup(url, params):\n",
    "    r = requests.get(url, params=params)\n",
    "    assert r.status_code == 200\n",
    "    return BeautifulSoup(r.text, \"lxml\")\n",
    "\n",
    "def get_select_options(soup, name_attr):\n",
    "    data = soup.select('select[name={}]'.format(name_attr))[0] #We assume that we have only one field with a specific name\n",
    "    options = {option['value']: option.text for option in data.find_all('option', value=True, selected=False) if  option.text != ''}\n",
    "    return options\n",
    "\n",
    "def get_fields_options(soup, fields):\n",
    "    form_options = {}\n",
    "    for key, value in fields.items():\n",
    "        form_options[value] = get_select_options(soup, value)\n",
    "    \n",
    "    return form_options\n",
    "\n",
    "FORM_FIELDS = {\n",
    "    # Label : Name Attribute\n",
    "    'Unité académique': 'ww_x_UNITE_ACAD',\n",
    "    'Période académique': 'ww_x_PERIODE_ACAD',\n",
    "    'Période pédagogique': 'ww_x_PERIODE_PEDAGO',\n",
    "    'Type de semestre': 'ww_x_HIVERETE',\n",
    "}\n",
    "\n",
    "soup_index = request2soup(URL_FORM_BASE, FORM_PARAM_DEFAULT)\n",
    "\n",
    "FORM_FIELDS_OPTIONS = get_fields_options(soup_index, FORM_FIELDS)"
   ]
  },
  {
   "cell_type": "code",
   "execution_count": 105,
   "metadata": {
    "collapsed": false,
    "scrolled": true
   },
   "outputs": [
    {
     "data": {
      "text/plain": [
       "{'ww_x_HIVERETE': {'2936286': \"Semestre d'automne\",\n",
       "  '2936295': 'Semestre de printemps'},\n",
       " 'ww_x_PERIODE_ACAD': {'123455150': '2011-2012',\n",
       "  '123456101': '2012-2013',\n",
       "  '213637754': '2013-2014',\n",
       "  '213637922': '2014-2015',\n",
       "  '213638028': '2015-2016',\n",
       "  '355925344': '2016-2017',\n",
       "  '39486325': '2010-2011',\n",
       "  '978181': '2007-2008',\n",
       "  '978187': '2008-2009',\n",
       "  '978195': '2009-2010'},\n",
       " 'ww_x_PERIODE_PEDAGO': {'2063602308': 'Mise à niveau',\n",
       "  '2226616': 'Stage automne 4ème année',\n",
       "  '2226626': 'Stage printemps 4ème année',\n",
       "  '2226768': 'Bachelor semestre 5b',\n",
       "  '2226785': 'Bachelor semestre 6b',\n",
       "  '2227132': 'Stage printemps master',\n",
       "  '2230106': 'Master semestre 1',\n",
       "  '2230128': 'Master semestre 3',\n",
       "  '2230140': 'Master semestre 4',\n",
       "  '2335667': 'Mineur semestre 1',\n",
       "  '2335676': 'Mineur semestre 2',\n",
       "  '249108': 'Bachelor semestre 1',\n",
       "  '249114': 'Bachelor semestre 2',\n",
       "  '249127': 'Projet Master automne',\n",
       "  '2754553': 'Semestre printemps',\n",
       "  '3781783': 'Projet Master printemps',\n",
       "  '942120': 'Bachelor semestre 5',\n",
       "  '942155': 'Bachelor semestre 3',\n",
       "  '942163': 'Bachelor semestre 4',\n",
       "  '942175': 'Bachelor semestre 6',\n",
       "  '942192': 'Master semestre 2',\n",
       "  '953137': 'Stage automne 3ème année',\n",
       "  '953159': 'Semestre automne',\n",
       "  '983606': 'Stage printemps 3ème année'},\n",
       " 'ww_x_UNITE_ACAD': {'120623110': 'Ingénierie financière',\n",
       "  '1574548993': 'Section FCUE',\n",
       "  '2054839157': 'Humanités digitales',\n",
       "  '246696': 'Chimie et génie chimique',\n",
       "  '249847': 'Informatique',\n",
       "  '637841336': 'EME (EPFL Middle East)',\n",
       "  '942293': 'Architecture',\n",
       "  '942623': 'Génie civil',\n",
       "  '942953': \"Sciences et ingénierie de l'environnement\",\n",
       "  '943282': 'Cours de mathématiques spéciales',\n",
       "  '943936': 'Génie électrique et électronique ',\n",
       "  '944263': 'Génie mécanique',\n",
       "  '944590': 'Mathématiques',\n",
       "  '944917': 'Science et génie des matériaux',\n",
       "  '945244': 'Microtechnique',\n",
       "  '945571': 'Physique',\n",
       "  '945901': 'Sciences et technologies du vivant',\n",
       "  '946228': 'Systèmes de communication',\n",
       "  '946882': 'Management de la technologie'}}"
      ]
     },
     "execution_count": 105,
     "metadata": {},
     "output_type": "execute_result"
    }
   ],
   "source": [
    "FORM_FIELDS_OPTIONS"
   ]
  },
  {
   "cell_type": "markdown",
   "metadata": {},
   "source": [
    "By submiting the form, we get a table filled with links at the bottom of the form back. Of course ISA does not want to play it simple and rely instead of the href attribute to javascript for the link behaviour. A link when clicked call the js function \"loadReport\" which generate the \"data url\", the url from which we will be able to get data we are interested in. This url is normally used to fill a frame inside the page. But we can use it directly. "
   ]
  },
  {
   "cell_type": "markdown",
   "metadata": {},
   "source": [
    "We first create a \"metadata\" dataframe so ease our further investigation"
   ]
  },
  {
   "cell_type": "code",
   "execution_count": 102,
   "metadata": {
    "collapsed": false,
    "scrolled": true
   },
   "outputs": [],
   "source": [
    "def get_form_url(params):\n",
    "    return URL_FORM_BASE + \"?\" + urllib.parse.urlencode(dict(params, **FORM_PARAM_DEFAULT))\n",
    "\n",
    "def get_data_url(params, GPS=-1, type=133685270):\n",
    "    p = {'ww_x_GPS': GPS, 'ww_i_reportModelXsl': type}\n",
    "    return URL_DATA_BASE + \"?\" + urllib.parse.urlencode(dict(dict(params, **FORM_PARAM_DEFAULT), **p))"
   ]
  },
  {
   "cell_type": "markdown",
   "metadata": {
    "collapsed": false
   },
   "source": [
    "--------------"
   ]
  },
  {
   "cell_type": "code",
   "execution_count": 247,
   "metadata": {
    "collapsed": false,
    "scrolled": true
   },
   "outputs": [
    {
     "name": "stdout",
     "output_type": "stream",
     "text": [
      "http://isa.epfl.ch/imoniteur_ISAP/!GEDPUBLICREPORTS.html?ww_i_reportmodel=133685247&ww_x_GPS=-1&ww_x_HIVERETE=&ww_x_UNITE_ACAD=249847&ww_x_PERIODE_PEDAGO=249108&ww_x_PERIODE_ACAD=978181&ww_i_reportModelXsl=133685270&ww_v_list=1\n",
      "http://isa.epfl.ch/imoniteur_ISAP/!GEDPUBLICREPORTS.html?ww_i_reportmodel=133685247&ww_x_GPS=-1&ww_x_HIVERETE=&ww_x_UNITE_ACAD=249847&ww_x_PERIODE_PEDAGO=249114&ww_x_PERIODE_ACAD=978181&ww_i_reportModelXsl=133685270&ww_v_list=1\n"
     ]
    }
   ],
   "source": [
    "params = {\n",
    "    'ww_x_UNITE_ACAD': 249847,\n",
    "    'ww_x_PERIODE_ACAD': 978181,\n",
    "    'ww_x_PERIODE_PEDAGO': 249108,\n",
    "    'ww_x_HIVERETE': '',\n",
    "}\n",
    "print(get_data_url(params))\n",
    "ba1 = pd.read_html(get_data_url(params), header=1)[0]\n",
    "\n",
    "params = {\n",
    "    'ww_x_UNITE_ACAD': 249847,\n",
    "    'ww_x_PERIODE_ACAD': 978181,\n",
    "    'ww_x_PERIODE_PEDAGO': 249114,\n",
    "    'ww_x_HIVERETE': '',\n",
    "}\n",
    "print(get_data_url(params))\n",
    "ba2 = pd.read_html(get_data_url(params), header=1)[0]\n"
   ]
  },
  {
   "cell_type": "code",
   "execution_count": 268,
   "metadata": {
    "collapsed": false
   },
   "outputs": [],
   "source": [
    "test2 = ba2.copy()[['No Sciper', 'Statut']]\n",
    "test2['semester'] = 'BA1'\n",
    "test2['period'] = '2007-2008'\n",
    "test2 = test2.set_index(['No Sciper'])"
   ]
  },
  {
   "cell_type": "code",
   "execution_count": 269,
   "metadata": {
    "collapsed": false
   },
   "outputs": [],
   "source": [
    "test = ba1.copy()[['No Sciper', 'Statut']]\n",
    "test['semester'] = 'BA2'\n",
    "test['period'] = '2007-2008'\n",
    "test = test.set_index(['No Sciper'])"
   ]
  },
  {
   "cell_type": "code",
   "execution_count": 270,
   "metadata": {
    "collapsed": true
   },
   "outputs": [],
   "source": [
    "t = pd.concat([test2, test])"
   ]
  },
  {
   "cell_type": "code",
   "execution_count": 271,
   "metadata": {
    "collapsed": false,
    "scrolled": true
   },
   "outputs": [],
   "source": [
    "t.set_index('semester', append=True, inplace=True)"
   ]
  },
  {
   "cell_type": "code",
   "execution_count": 272,
   "metadata": {
    "collapsed": false,
    "scrolled": true
   },
   "outputs": [],
   "source": [
    "t = t.sort_index()"
   ]
  },
  {
   "cell_type": "code",
   "execution_count": null,
   "metadata": {
    "collapsed": false
   },
   "outputs": [],
   "source": []
  },
  {
   "cell_type": "code",
   "execution_count": null,
   "metadata": {
    "collapsed": true
   },
   "outputs": [],
   "source": []
  },
  {
   "cell_type": "code",
   "execution_count": null,
   "metadata": {
    "collapsed": true
   },
   "outputs": [],
   "source": []
  },
  {
   "cell_type": "code",
   "execution_count": null,
   "metadata": {
    "collapsed": true
   },
   "outputs": [],
   "source": []
  },
  {
   "cell_type": "code",
   "execution_count": null,
   "metadata": {
    "collapsed": true
   },
   "outputs": [],
   "source": []
  },
  {
   "cell_type": "code",
   "execution_count": 294,
   "metadata": {
    "collapsed": true
   },
   "outputs": [],
   "source": [
    "BACHELOR = {  \n",
    "    '249108': 'Bachelor semestre 1',\n",
    "    '249114': 'Bachelor semestre 2',\n",
    "    '942155': 'Bachelor semestre 3',\n",
    "    '942163': 'Bachelor semestre 4',\n",
    "    '942120': 'Bachelor semestre 5',\n",
    "    '942175': 'Bachelor semestre 6',\n",
    "    '2226768': 'Bachelor semestre 5b',\n",
    "    '2226785': 'Bachelor semestre 6b',\n",
    "}\n",
    "\n",
    "def get_bachelor_data():\n",
    "    data_list = []\n",
    "    \n",
    "    for peda in BACHELOR:\n",
    "        for period in FORM_FIELDS_OPTIONS['ww_x_PERIODE_ACAD']:\n",
    "            params = {\n",
    "                'ww_x_UNITE_ACAD': 249847,\n",
    "                'ww_x_PERIODE_ACAD': period,\n",
    "                'ww_x_PERIODE_PEDAGO': peda,\n",
    "                'ww_x_HIVERETE': '',\n",
    "            } \n",
    "            try: \n",
    "                data = pd.read_html(get_data_url(params), header=1)[0]\n",
    "                df = data.copy()[['No Sciper', 'Statut']]\n",
    "                df['semester'] = BACHELOR[peda]\n",
    "                df['period'] = FORM_FIELDS_OPTIONS['ww_x_PERIODE_ACAD'][period]\n",
    "                df.set_index(['No Sciper'], inplace=True)\n",
    "\n",
    "                data_list.append(df)\n",
    "            except:\n",
    "                print(\"No Data : \" +  BACHELOR[peda] + \" \" + FORM_FIELDS_OPTIONS['ww_x_PERIODE_ACAD'][period])\n",
    "        \n",
    "    d = pd.concat(data_list)\n",
    "    d.set_index('semester', append=True, inplace=True)\n",
    "    d.sort_index(inplace=True)\n",
    "    \n",
    "    return d"
   ]
  },
  {
   "cell_type": "code",
   "execution_count": 295,
   "metadata": {
    "collapsed": false
   },
   "outputs": [
    {
     "name": "stdout",
     "output_type": "stream",
     "text": [
      "No Data : Bachelor semestre 6b 2011-2012\n",
      "No Data : Bachelor semestre 6b 2014-2015\n",
      "No Data : Bachelor semestre 6b 2013-2014\n",
      "No Data : Bachelor semestre 6b 2008-2009\n",
      "No Data : Bachelor semestre 6b 2007-2008\n",
      "No Data : Bachelor semestre 6b 2010-2011\n",
      "No Data : Bachelor semestre 6b 2012-2013\n",
      "No Data : Bachelor semestre 6b 2016-2017\n",
      "No Data : Bachelor semestre 6b 2015-2016\n",
      "No Data : Bachelor semestre 6b 2009-2010\n",
      "No Data : Bachelor semestre 5b 2011-2012\n",
      "No Data : Bachelor semestre 5b 2014-2015\n",
      "No Data : Bachelor semestre 5b 2013-2014\n",
      "No Data : Bachelor semestre 5b 2008-2009\n",
      "No Data : Bachelor semestre 5b 2007-2008\n",
      "No Data : Bachelor semestre 5b 2010-2011\n",
      "No Data : Bachelor semestre 5b 2012-2013\n",
      "No Data : Bachelor semestre 5b 2016-2017\n",
      "No Data : Bachelor semestre 5b 2015-2016\n",
      "No Data : Bachelor semestre 5b 2009-2010\n"
     ]
    }
   ],
   "source": [
    "d = get_bachelor_data()"
   ]
  },
  {
   "cell_type": "code",
   "execution_count": 298,
   "metadata": {
    "collapsed": false
   },
   "outputs": [
    {
     "data": {
      "text/html": [
       "<div>\n",
       "<table border=\"1\" class=\"dataframe\">\n",
       "  <thead>\n",
       "    <tr style=\"text-align: right;\">\n",
       "      <th></th>\n",
       "      <th></th>\n",
       "      <th>Statut</th>\n",
       "      <th>period</th>\n",
       "    </tr>\n",
       "    <tr>\n",
       "      <th>No Sciper</th>\n",
       "      <th>semester</th>\n",
       "      <th></th>\n",
       "      <th></th>\n",
       "    </tr>\n",
       "  </thead>\n",
       "  <tbody>\n",
       "    <tr>\n",
       "      <th rowspan=\"4\" valign=\"top\">NaN</th>\n",
       "      <th>Bachelor semestre 3</th>\n",
       "      <td>NaN</td>\n",
       "      <td>2008-2009</td>\n",
       "    </tr>\n",
       "    <tr>\n",
       "      <th>Bachelor semestre 3</th>\n",
       "      <td>NaN</td>\n",
       "      <td>2007-2008</td>\n",
       "    </tr>\n",
       "    <tr>\n",
       "      <th>Bachelor semestre 4</th>\n",
       "      <td>NaN</td>\n",
       "      <td>2008-2009</td>\n",
       "    </tr>\n",
       "    <tr>\n",
       "      <th>Bachelor semestre 4</th>\n",
       "      <td>NaN</td>\n",
       "      <td>2007-2008</td>\n",
       "    </tr>\n",
       "    <tr>\n",
       "      <th rowspan=\"6\" valign=\"top\">147008</th>\n",
       "      <th>Bachelor semestre 1</th>\n",
       "      <td>Présent</td>\n",
       "      <td>2008-2009</td>\n",
       "    </tr>\n",
       "    <tr>\n",
       "      <th>Bachelor semestre 2</th>\n",
       "      <td>Présent</td>\n",
       "      <td>2008-2009</td>\n",
       "    </tr>\n",
       "    <tr>\n",
       "      <th>Bachelor semestre 3</th>\n",
       "      <td>Présent</td>\n",
       "      <td>2009-2010</td>\n",
       "    </tr>\n",
       "    <tr>\n",
       "      <th>Bachelor semestre 4</th>\n",
       "      <td>Présent</td>\n",
       "      <td>2009-2010</td>\n",
       "    </tr>\n",
       "    <tr>\n",
       "      <th>Bachelor semestre 5</th>\n",
       "      <td>Congé</td>\n",
       "      <td>2010-2011</td>\n",
       "    </tr>\n",
       "    <tr>\n",
       "      <th>Bachelor semestre 6</th>\n",
       "      <td>Congé</td>\n",
       "      <td>2010-2011</td>\n",
       "    </tr>\n",
       "    <tr>\n",
       "      <th rowspan=\"2\" valign=\"top\">153762</th>\n",
       "      <th>Bachelor semestre 5</th>\n",
       "      <td>Présent</td>\n",
       "      <td>2007-2008</td>\n",
       "    </tr>\n",
       "    <tr>\n",
       "      <th>Bachelor semestre 6</th>\n",
       "      <td>Présent</td>\n",
       "      <td>2007-2008</td>\n",
       "    </tr>\n",
       "    <tr>\n",
       "      <th>154157</th>\n",
       "      <th>Bachelor semestre 5</th>\n",
       "      <td>Présent</td>\n",
       "      <td>2007-2008</td>\n",
       "    </tr>\n",
       "    <tr>\n",
       "      <th rowspan=\"2\" valign=\"top\">159516</th>\n",
       "      <th>Bachelor semestre 5</th>\n",
       "      <td>Présent</td>\n",
       "      <td>2007-2008</td>\n",
       "    </tr>\n",
       "    <tr>\n",
       "      <th>Bachelor semestre 6</th>\n",
       "      <td>Présent</td>\n",
       "      <td>2007-2008</td>\n",
       "    </tr>\n",
       "    <tr>\n",
       "      <th rowspan=\"2\" valign=\"top\">159998</th>\n",
       "      <th>Bachelor semestre 5</th>\n",
       "      <td>Présent</td>\n",
       "      <td>2007-2008</td>\n",
       "    </tr>\n",
       "    <tr>\n",
       "      <th>Bachelor semestre 6</th>\n",
       "      <td>Présent</td>\n",
       "      <td>2007-2008</td>\n",
       "    </tr>\n",
       "    <tr>\n",
       "      <th>160213</th>\n",
       "      <th>Bachelor semestre 5</th>\n",
       "      <td>Présent</td>\n",
       "      <td>2007-2008</td>\n",
       "    </tr>\n",
       "    <tr>\n",
       "      <th rowspan=\"2\" valign=\"top\">161091</th>\n",
       "      <th>Bachelor semestre 5</th>\n",
       "      <td>Congé</td>\n",
       "      <td>2007-2008</td>\n",
       "    </tr>\n",
       "    <tr>\n",
       "      <th>Bachelor semestre 6</th>\n",
       "      <td>Présent</td>\n",
       "      <td>2007-2008</td>\n",
       "    </tr>\n",
       "  </tbody>\n",
       "</table>\n",
       "</div>"
      ],
      "text/plain": [
       "                                Statut     period\n",
       "No Sciper semester                               \n",
       "NaN       Bachelor semestre 3      NaN  2008-2009\n",
       "          Bachelor semestre 3      NaN  2007-2008\n",
       "          Bachelor semestre 4      NaN  2008-2009\n",
       "          Bachelor semestre 4      NaN  2007-2008\n",
       "147008    Bachelor semestre 1  Présent  2008-2009\n",
       "          Bachelor semestre 2  Présent  2008-2009\n",
       "          Bachelor semestre 3  Présent  2009-2010\n",
       "          Bachelor semestre 4  Présent  2009-2010\n",
       "          Bachelor semestre 5    Congé  2010-2011\n",
       "          Bachelor semestre 6    Congé  2010-2011\n",
       "153762    Bachelor semestre 5  Présent  2007-2008\n",
       "          Bachelor semestre 6  Présent  2007-2008\n",
       "154157    Bachelor semestre 5  Présent  2007-2008\n",
       "159516    Bachelor semestre 5  Présent  2007-2008\n",
       "          Bachelor semestre 6  Présent  2007-2008\n",
       "159998    Bachelor semestre 5  Présent  2007-2008\n",
       "          Bachelor semestre 6  Présent  2007-2008\n",
       "160213    Bachelor semestre 5  Présent  2007-2008\n",
       "161091    Bachelor semestre 5    Congé  2007-2008\n",
       "          Bachelor semestre 6  Présent  2007-2008"
      ]
     },
     "execution_count": 298,
     "metadata": {},
     "output_type": "execute_result"
    }
   ],
   "source": [
    "d.head(20)"
   ]
  },
  {
   "cell_type": "code",
   "execution_count": 326,
   "metadata": {
    "collapsed": false
   },
   "outputs": [],
   "source": [
    "d = d.reset_index()"
   ]
  },
  {
   "cell_type": "code",
   "execution_count": 327,
   "metadata": {
    "collapsed": false
   },
   "outputs": [
    {
     "data": {
      "text/html": [
       "<div>\n",
       "<table border=\"1\" class=\"dataframe\">\n",
       "  <thead>\n",
       "    <tr style=\"text-align: right;\">\n",
       "      <th></th>\n",
       "      <th>No Sciper</th>\n",
       "      <th>semester</th>\n",
       "      <th>Statut</th>\n",
       "      <th>period</th>\n",
       "    </tr>\n",
       "  </thead>\n",
       "  <tbody>\n",
       "    <tr>\n",
       "      <th>0</th>\n",
       "      <td>NaN</td>\n",
       "      <td>Bachelor semestre 3</td>\n",
       "      <td>NaN</td>\n",
       "      <td>2008-2009</td>\n",
       "    </tr>\n",
       "    <tr>\n",
       "      <th>1</th>\n",
       "      <td>NaN</td>\n",
       "      <td>Bachelor semestre 3</td>\n",
       "      <td>NaN</td>\n",
       "      <td>2007-2008</td>\n",
       "    </tr>\n",
       "    <tr>\n",
       "      <th>2</th>\n",
       "      <td>NaN</td>\n",
       "      <td>Bachelor semestre 4</td>\n",
       "      <td>NaN</td>\n",
       "      <td>2008-2009</td>\n",
       "    </tr>\n",
       "    <tr>\n",
       "      <th>3</th>\n",
       "      <td>NaN</td>\n",
       "      <td>Bachelor semestre 4</td>\n",
       "      <td>NaN</td>\n",
       "      <td>2007-2008</td>\n",
       "    </tr>\n",
       "    <tr>\n",
       "      <th>4</th>\n",
       "      <td>147008</td>\n",
       "      <td>Bachelor semestre 1</td>\n",
       "      <td>Présent</td>\n",
       "      <td>2008-2009</td>\n",
       "    </tr>\n",
       "    <tr>\n",
       "      <th>5</th>\n",
       "      <td>147008</td>\n",
       "      <td>Bachelor semestre 2</td>\n",
       "      <td>Présent</td>\n",
       "      <td>2008-2009</td>\n",
       "    </tr>\n",
       "    <tr>\n",
       "      <th>6</th>\n",
       "      <td>147008</td>\n",
       "      <td>Bachelor semestre 3</td>\n",
       "      <td>Présent</td>\n",
       "      <td>2009-2010</td>\n",
       "    </tr>\n",
       "    <tr>\n",
       "      <th>7</th>\n",
       "      <td>147008</td>\n",
       "      <td>Bachelor semestre 4</td>\n",
       "      <td>Présent</td>\n",
       "      <td>2009-2010</td>\n",
       "    </tr>\n",
       "    <tr>\n",
       "      <th>8</th>\n",
       "      <td>147008</td>\n",
       "      <td>Bachelor semestre 5</td>\n",
       "      <td>Congé</td>\n",
       "      <td>2010-2011</td>\n",
       "    </tr>\n",
       "    <tr>\n",
       "      <th>9</th>\n",
       "      <td>147008</td>\n",
       "      <td>Bachelor semestre 6</td>\n",
       "      <td>Congé</td>\n",
       "      <td>2010-2011</td>\n",
       "    </tr>\n",
       "    <tr>\n",
       "      <th>10</th>\n",
       "      <td>153762</td>\n",
       "      <td>Bachelor semestre 5</td>\n",
       "      <td>Présent</td>\n",
       "      <td>2007-2008</td>\n",
       "    </tr>\n",
       "    <tr>\n",
       "      <th>11</th>\n",
       "      <td>153762</td>\n",
       "      <td>Bachelor semestre 6</td>\n",
       "      <td>Présent</td>\n",
       "      <td>2007-2008</td>\n",
       "    </tr>\n",
       "    <tr>\n",
       "      <th>12</th>\n",
       "      <td>154157</td>\n",
       "      <td>Bachelor semestre 5</td>\n",
       "      <td>Présent</td>\n",
       "      <td>2007-2008</td>\n",
       "    </tr>\n",
       "    <tr>\n",
       "      <th>13</th>\n",
       "      <td>159516</td>\n",
       "      <td>Bachelor semestre 5</td>\n",
       "      <td>Présent</td>\n",
       "      <td>2007-2008</td>\n",
       "    </tr>\n",
       "    <tr>\n",
       "      <th>14</th>\n",
       "      <td>159516</td>\n",
       "      <td>Bachelor semestre 6</td>\n",
       "      <td>Présent</td>\n",
       "      <td>2007-2008</td>\n",
       "    </tr>\n",
       "    <tr>\n",
       "      <th>15</th>\n",
       "      <td>159998</td>\n",
       "      <td>Bachelor semestre 5</td>\n",
       "      <td>Présent</td>\n",
       "      <td>2007-2008</td>\n",
       "    </tr>\n",
       "    <tr>\n",
       "      <th>16</th>\n",
       "      <td>159998</td>\n",
       "      <td>Bachelor semestre 6</td>\n",
       "      <td>Présent</td>\n",
       "      <td>2007-2008</td>\n",
       "    </tr>\n",
       "    <tr>\n",
       "      <th>17</th>\n",
       "      <td>160213</td>\n",
       "      <td>Bachelor semestre 5</td>\n",
       "      <td>Présent</td>\n",
       "      <td>2007-2008</td>\n",
       "    </tr>\n",
       "    <tr>\n",
       "      <th>18</th>\n",
       "      <td>161091</td>\n",
       "      <td>Bachelor semestre 5</td>\n",
       "      <td>Congé</td>\n",
       "      <td>2007-2008</td>\n",
       "    </tr>\n",
       "    <tr>\n",
       "      <th>19</th>\n",
       "      <td>161091</td>\n",
       "      <td>Bachelor semestre 6</td>\n",
       "      <td>Présent</td>\n",
       "      <td>2007-2008</td>\n",
       "    </tr>\n",
       "  </tbody>\n",
       "</table>\n",
       "</div>"
      ],
      "text/plain": [
       "   No Sciper             semester   Statut     period\n",
       "0        NaN  Bachelor semestre 3      NaN  2008-2009\n",
       "1        NaN  Bachelor semestre 3      NaN  2007-2008\n",
       "2        NaN  Bachelor semestre 4      NaN  2008-2009\n",
       "3        NaN  Bachelor semestre 4      NaN  2007-2008\n",
       "4     147008  Bachelor semestre 1  Présent  2008-2009\n",
       "5     147008  Bachelor semestre 2  Présent  2008-2009\n",
       "6     147008  Bachelor semestre 3  Présent  2009-2010\n",
       "7     147008  Bachelor semestre 4  Présent  2009-2010\n",
       "8     147008  Bachelor semestre 5    Congé  2010-2011\n",
       "9     147008  Bachelor semestre 6    Congé  2010-2011\n",
       "10    153762  Bachelor semestre 5  Présent  2007-2008\n",
       "11    153762  Bachelor semestre 6  Présent  2007-2008\n",
       "12    154157  Bachelor semestre 5  Présent  2007-2008\n",
       "13    159516  Bachelor semestre 5  Présent  2007-2008\n",
       "14    159516  Bachelor semestre 6  Présent  2007-2008\n",
       "15    159998  Bachelor semestre 5  Présent  2007-2008\n",
       "16    159998  Bachelor semestre 6  Présent  2007-2008\n",
       "17    160213  Bachelor semestre 5  Présent  2007-2008\n",
       "18    161091  Bachelor semestre 5    Congé  2007-2008\n",
       "19    161091  Bachelor semestre 6  Présent  2007-2008"
      ]
     },
     "execution_count": 327,
     "metadata": {},
     "output_type": "execute_result"
    }
   ],
   "source": [
    "d.head(20)"
   ]
  },
  {
   "cell_type": "code",
   "execution_count": 331,
   "metadata": {
    "collapsed": false
   },
   "outputs": [
    {
     "data": {
      "text/plain": [
       "<pandas.core.groupby.DataFrameGroupBy object at 0x115c29470>"
      ]
     },
     "execution_count": 331,
     "metadata": {},
     "output_type": "execute_result"
    }
   ],
   "source": [
    "d.groupby(['No Sciper'])"
   ]
  },
  {
   "cell_type": "code",
   "execution_count": null,
   "metadata": {
    "collapsed": false
   },
   "outputs": [],
   "source": []
  },
  {
   "cell_type": "code",
   "execution_count": 209,
   "metadata": {
    "collapsed": false,
    "scrolled": true
   },
   "outputs": [],
   "source": []
  },
  {
   "cell_type": "code",
   "execution_count": null,
   "metadata": {
    "collapsed": false
   },
   "outputs": [],
   "source": []
  },
  {
   "cell_type": "code",
   "execution_count": 286,
   "metadata": {
    "collapsed": false,
    "scrolled": true
   },
   "outputs": [
    {
     "ename": "KeyError",
     "evalue": "'161212'",
     "output_type": "error",
     "traceback": [
      "\u001b[0;31m---------------------------------------------------------------------------\u001b[0m",
      "\u001b[0;31mKeyError\u001b[0m                                  Traceback (most recent call last)",
      "\u001b[0;32m/Users/onanypoint/anaconda/lib/python3.5/site-packages/pandas/indexes/base.py\u001b[0m in \u001b[0;36mget_loc\u001b[0;34m(self, key, method, tolerance)\u001b[0m\n\u001b[1;32m   1944\u001b[0m             \u001b[0;32mtry\u001b[0m\u001b[0;34m:\u001b[0m\u001b[0;34m\u001b[0m\u001b[0m\n\u001b[0;32m-> 1945\u001b[0;31m                 \u001b[0;32mreturn\u001b[0m \u001b[0mself\u001b[0m\u001b[0;34m.\u001b[0m\u001b[0m_engine\u001b[0m\u001b[0;34m.\u001b[0m\u001b[0mget_loc\u001b[0m\u001b[0;34m(\u001b[0m\u001b[0mkey\u001b[0m\u001b[0;34m)\u001b[0m\u001b[0;34m\u001b[0m\u001b[0m\n\u001b[0m\u001b[1;32m   1946\u001b[0m             \u001b[0;32mexcept\u001b[0m \u001b[0mKeyError\u001b[0m\u001b[0;34m:\u001b[0m\u001b[0;34m\u001b[0m\u001b[0m\n",
      "\u001b[0;32mpandas/index.pyx\u001b[0m in \u001b[0;36mpandas.index.IndexEngine.get_loc (pandas/index.c:4154)\u001b[0;34m()\u001b[0m\n",
      "\u001b[0;32mpandas/index.pyx\u001b[0m in \u001b[0;36mpandas.index.IndexEngine.get_loc (pandas/index.c:4018)\u001b[0;34m()\u001b[0m\n",
      "\u001b[0;32mpandas/hashtable.pyx\u001b[0m in \u001b[0;36mpandas.hashtable.PyObjectHashTable.get_item (pandas/hashtable.c:12368)\u001b[0;34m()\u001b[0m\n",
      "\u001b[0;32mpandas/hashtable.pyx\u001b[0m in \u001b[0;36mpandas.hashtable.PyObjectHashTable.get_item (pandas/hashtable.c:12322)\u001b[0;34m()\u001b[0m\n",
      "\u001b[0;31mKeyError\u001b[0m: '161212'",
      "\nDuring handling of the above exception, another exception occurred:\n",
      "\u001b[0;31mKeyError\u001b[0m                                  Traceback (most recent call last)",
      "\u001b[0;32m<ipython-input-286-e402e1c740ba>\u001b[0m in \u001b[0;36m<module>\u001b[0;34m()\u001b[0m\n\u001b[0;32m----> 1\u001b[0;31m \u001b[0md\u001b[0m\u001b[0;34m.\u001b[0m\u001b[0mix\u001b[0m\u001b[0;34m[\u001b[0m\u001b[0;34m(\u001b[0m\u001b[0;34m'161212'\u001b[0m\u001b[0;34m)\u001b[0m\u001b[0;34m]\u001b[0m\u001b[0;34m\u001b[0m\u001b[0m\n\u001b[0m",
      "\u001b[0;32m/Users/onanypoint/anaconda/lib/python3.5/site-packages/pandas/core/indexing.py\u001b[0m in \u001b[0;36m__getitem__\u001b[0;34m(self, key)\u001b[0m\n\u001b[1;32m     76\u001b[0m         \u001b[0;32melse\u001b[0m\u001b[0;34m:\u001b[0m\u001b[0;34m\u001b[0m\u001b[0m\n\u001b[1;32m     77\u001b[0m             \u001b[0mkey\u001b[0m \u001b[0;34m=\u001b[0m \u001b[0mcom\u001b[0m\u001b[0;34m.\u001b[0m\u001b[0m_apply_if_callable\u001b[0m\u001b[0;34m(\u001b[0m\u001b[0mkey\u001b[0m\u001b[0;34m,\u001b[0m \u001b[0mself\u001b[0m\u001b[0;34m.\u001b[0m\u001b[0mobj\u001b[0m\u001b[0;34m)\u001b[0m\u001b[0;34m\u001b[0m\u001b[0m\n\u001b[0;32m---> 78\u001b[0;31m             \u001b[0;32mreturn\u001b[0m \u001b[0mself\u001b[0m\u001b[0;34m.\u001b[0m\u001b[0m_getitem_axis\u001b[0m\u001b[0;34m(\u001b[0m\u001b[0mkey\u001b[0m\u001b[0;34m,\u001b[0m \u001b[0maxis\u001b[0m\u001b[0;34m=\u001b[0m\u001b[0;36m0\u001b[0m\u001b[0;34m)\u001b[0m\u001b[0;34m\u001b[0m\u001b[0m\n\u001b[0m\u001b[1;32m     79\u001b[0m \u001b[0;34m\u001b[0m\u001b[0m\n\u001b[1;32m     80\u001b[0m     \u001b[0;32mdef\u001b[0m \u001b[0m_get_label\u001b[0m\u001b[0;34m(\u001b[0m\u001b[0mself\u001b[0m\u001b[0;34m,\u001b[0m \u001b[0mlabel\u001b[0m\u001b[0;34m,\u001b[0m \u001b[0maxis\u001b[0m\u001b[0;34m=\u001b[0m\u001b[0;36m0\u001b[0m\u001b[0;34m)\u001b[0m\u001b[0;34m:\u001b[0m\u001b[0;34m\u001b[0m\u001b[0m\n",
      "\u001b[0;32m/Users/onanypoint/anaconda/lib/python3.5/site-packages/pandas/core/indexing.py\u001b[0m in \u001b[0;36m_getitem_axis\u001b[0;34m(self, key, axis)\u001b[0m\n\u001b[1;32m   1016\u001b[0m                     \u001b[0;32mreturn\u001b[0m \u001b[0mself\u001b[0m\u001b[0;34m.\u001b[0m\u001b[0m_get_loc\u001b[0m\u001b[0;34m(\u001b[0m\u001b[0mkey\u001b[0m\u001b[0;34m,\u001b[0m \u001b[0maxis\u001b[0m\u001b[0;34m=\u001b[0m\u001b[0maxis\u001b[0m\u001b[0;34m)\u001b[0m\u001b[0;34m\u001b[0m\u001b[0m\n\u001b[1;32m   1017\u001b[0m \u001b[0;34m\u001b[0m\u001b[0m\n\u001b[0;32m-> 1018\u001b[0;31m             \u001b[0;32mreturn\u001b[0m \u001b[0mself\u001b[0m\u001b[0;34m.\u001b[0m\u001b[0m_get_label\u001b[0m\u001b[0;34m(\u001b[0m\u001b[0mkey\u001b[0m\u001b[0;34m,\u001b[0m \u001b[0maxis\u001b[0m\u001b[0;34m=\u001b[0m\u001b[0maxis\u001b[0m\u001b[0;34m)\u001b[0m\u001b[0;34m\u001b[0m\u001b[0m\n\u001b[0m\u001b[1;32m   1019\u001b[0m \u001b[0;34m\u001b[0m\u001b[0m\n\u001b[1;32m   1020\u001b[0m     \u001b[0;32mdef\u001b[0m \u001b[0m_getitem_iterable\u001b[0m\u001b[0;34m(\u001b[0m\u001b[0mself\u001b[0m\u001b[0;34m,\u001b[0m \u001b[0mkey\u001b[0m\u001b[0;34m,\u001b[0m \u001b[0maxis\u001b[0m\u001b[0;34m=\u001b[0m\u001b[0;36m0\u001b[0m\u001b[0;34m)\u001b[0m\u001b[0;34m:\u001b[0m\u001b[0;34m\u001b[0m\u001b[0m\n",
      "\u001b[0;32m/Users/onanypoint/anaconda/lib/python3.5/site-packages/pandas/core/indexing.py\u001b[0m in \u001b[0;36m_get_label\u001b[0;34m(self, label, axis)\u001b[0m\n\u001b[1;32m     91\u001b[0m             \u001b[0;32mraise\u001b[0m \u001b[0mIndexingError\u001b[0m\u001b[0;34m(\u001b[0m\u001b[0;34m'no slices here, handle elsewhere'\u001b[0m\u001b[0;34m)\u001b[0m\u001b[0;34m\u001b[0m\u001b[0m\n\u001b[1;32m     92\u001b[0m \u001b[0;34m\u001b[0m\u001b[0m\n\u001b[0;32m---> 93\u001b[0;31m         \u001b[0;32mreturn\u001b[0m \u001b[0mself\u001b[0m\u001b[0;34m.\u001b[0m\u001b[0mobj\u001b[0m\u001b[0;34m.\u001b[0m\u001b[0m_xs\u001b[0m\u001b[0;34m(\u001b[0m\u001b[0mlabel\u001b[0m\u001b[0;34m,\u001b[0m \u001b[0maxis\u001b[0m\u001b[0;34m=\u001b[0m\u001b[0maxis\u001b[0m\u001b[0;34m)\u001b[0m\u001b[0;34m\u001b[0m\u001b[0m\n\u001b[0m\u001b[1;32m     94\u001b[0m \u001b[0;34m\u001b[0m\u001b[0m\n\u001b[1;32m     95\u001b[0m     \u001b[0;32mdef\u001b[0m \u001b[0m_get_loc\u001b[0m\u001b[0;34m(\u001b[0m\u001b[0mself\u001b[0m\u001b[0;34m,\u001b[0m \u001b[0mkey\u001b[0m\u001b[0;34m,\u001b[0m \u001b[0maxis\u001b[0m\u001b[0;34m=\u001b[0m\u001b[0;36m0\u001b[0m\u001b[0;34m)\u001b[0m\u001b[0;34m:\u001b[0m\u001b[0;34m\u001b[0m\u001b[0m\n",
      "\u001b[0;32m/Users/onanypoint/anaconda/lib/python3.5/site-packages/pandas/core/generic.py\u001b[0m in \u001b[0;36mxs\u001b[0;34m(self, key, axis, level, copy, drop_level)\u001b[0m\n\u001b[1;32m   1745\u001b[0m         \u001b[0;32mif\u001b[0m \u001b[0misinstance\u001b[0m\u001b[0;34m(\u001b[0m\u001b[0mindex\u001b[0m\u001b[0;34m,\u001b[0m \u001b[0mMultiIndex\u001b[0m\u001b[0;34m)\u001b[0m\u001b[0;34m:\u001b[0m\u001b[0;34m\u001b[0m\u001b[0m\n\u001b[1;32m   1746\u001b[0m             loc, new_index = self.index.get_loc_level(key,\n\u001b[0;32m-> 1747\u001b[0;31m                                                       drop_level=drop_level)\n\u001b[0m\u001b[1;32m   1748\u001b[0m         \u001b[0;32melse\u001b[0m\u001b[0;34m:\u001b[0m\u001b[0;34m\u001b[0m\u001b[0m\n\u001b[1;32m   1749\u001b[0m             \u001b[0mloc\u001b[0m \u001b[0;34m=\u001b[0m \u001b[0mself\u001b[0m\u001b[0;34m.\u001b[0m\u001b[0mindex\u001b[0m\u001b[0;34m.\u001b[0m\u001b[0mget_loc\u001b[0m\u001b[0;34m(\u001b[0m\u001b[0mkey\u001b[0m\u001b[0;34m)\u001b[0m\u001b[0;34m\u001b[0m\u001b[0m\n",
      "\u001b[0;32m/Users/onanypoint/anaconda/lib/python3.5/site-packages/pandas/indexes/multi.py\u001b[0m in \u001b[0;36mget_loc_level\u001b[0;34m(self, key, level, drop_level)\u001b[0m\n\u001b[1;32m   1729\u001b[0m                 \u001b[0;32mreturn\u001b[0m \u001b[0mindexer\u001b[0m\u001b[0;34m,\u001b[0m \u001b[0mmaybe_droplevels\u001b[0m\u001b[0;34m(\u001b[0m\u001b[0mindexer\u001b[0m\u001b[0;34m,\u001b[0m \u001b[0milevels\u001b[0m\u001b[0;34m,\u001b[0m \u001b[0mdrop_level\u001b[0m\u001b[0;34m)\u001b[0m\u001b[0;34m\u001b[0m\u001b[0m\n\u001b[1;32m   1730\u001b[0m         \u001b[0;32melse\u001b[0m\u001b[0;34m:\u001b[0m\u001b[0;34m\u001b[0m\u001b[0m\n\u001b[0;32m-> 1731\u001b[0;31m             \u001b[0mindexer\u001b[0m \u001b[0;34m=\u001b[0m \u001b[0mself\u001b[0m\u001b[0;34m.\u001b[0m\u001b[0m_get_level_indexer\u001b[0m\u001b[0;34m(\u001b[0m\u001b[0mkey\u001b[0m\u001b[0;34m,\u001b[0m \u001b[0mlevel\u001b[0m\u001b[0;34m=\u001b[0m\u001b[0mlevel\u001b[0m\u001b[0;34m)\u001b[0m\u001b[0;34m\u001b[0m\u001b[0m\n\u001b[0m\u001b[1;32m   1732\u001b[0m             \u001b[0;32mreturn\u001b[0m \u001b[0mindexer\u001b[0m\u001b[0;34m,\u001b[0m \u001b[0mmaybe_droplevels\u001b[0m\u001b[0;34m(\u001b[0m\u001b[0mindexer\u001b[0m\u001b[0;34m,\u001b[0m \u001b[0;34m[\u001b[0m\u001b[0mlevel\u001b[0m\u001b[0;34m]\u001b[0m\u001b[0;34m,\u001b[0m \u001b[0mdrop_level\u001b[0m\u001b[0;34m)\u001b[0m\u001b[0;34m\u001b[0m\u001b[0m\n\u001b[1;32m   1733\u001b[0m \u001b[0;34m\u001b[0m\u001b[0m\n",
      "\u001b[0;32m/Users/onanypoint/anaconda/lib/python3.5/site-packages/pandas/indexes/multi.py\u001b[0m in \u001b[0;36m_get_level_indexer\u001b[0;34m(self, key, level, indexer)\u001b[0m\n\u001b[1;32m   1808\u001b[0m         \u001b[0;32melse\u001b[0m\u001b[0;34m:\u001b[0m\u001b[0;34m\u001b[0m\u001b[0m\n\u001b[1;32m   1809\u001b[0m \u001b[0;34m\u001b[0m\u001b[0m\n\u001b[0;32m-> 1810\u001b[0;31m             \u001b[0mloc\u001b[0m \u001b[0;34m=\u001b[0m \u001b[0mlevel_index\u001b[0m\u001b[0;34m.\u001b[0m\u001b[0mget_loc\u001b[0m\u001b[0;34m(\u001b[0m\u001b[0mkey\u001b[0m\u001b[0;34m)\u001b[0m\u001b[0;34m\u001b[0m\u001b[0m\n\u001b[0m\u001b[1;32m   1811\u001b[0m             \u001b[0;32mif\u001b[0m \u001b[0mlevel\u001b[0m \u001b[0;34m>\u001b[0m \u001b[0;36m0\u001b[0m \u001b[0;32mor\u001b[0m \u001b[0mself\u001b[0m\u001b[0;34m.\u001b[0m\u001b[0mlexsort_depth\u001b[0m \u001b[0;34m==\u001b[0m \u001b[0;36m0\u001b[0m\u001b[0;34m:\u001b[0m\u001b[0;34m\u001b[0m\u001b[0m\n\u001b[1;32m   1812\u001b[0m                 \u001b[0;32mreturn\u001b[0m \u001b[0mnp\u001b[0m\u001b[0;34m.\u001b[0m\u001b[0marray\u001b[0m\u001b[0;34m(\u001b[0m\u001b[0mlabels\u001b[0m \u001b[0;34m==\u001b[0m \u001b[0mloc\u001b[0m\u001b[0;34m,\u001b[0m \u001b[0mdtype\u001b[0m\u001b[0;34m=\u001b[0m\u001b[0mbool\u001b[0m\u001b[0;34m)\u001b[0m\u001b[0;34m\u001b[0m\u001b[0m\n",
      "\u001b[0;32m/Users/onanypoint/anaconda/lib/python3.5/site-packages/pandas/indexes/base.py\u001b[0m in \u001b[0;36mget_loc\u001b[0;34m(self, key, method, tolerance)\u001b[0m\n\u001b[1;32m   1945\u001b[0m                 \u001b[0;32mreturn\u001b[0m \u001b[0mself\u001b[0m\u001b[0;34m.\u001b[0m\u001b[0m_engine\u001b[0m\u001b[0;34m.\u001b[0m\u001b[0mget_loc\u001b[0m\u001b[0;34m(\u001b[0m\u001b[0mkey\u001b[0m\u001b[0;34m)\u001b[0m\u001b[0;34m\u001b[0m\u001b[0m\n\u001b[1;32m   1946\u001b[0m             \u001b[0;32mexcept\u001b[0m \u001b[0mKeyError\u001b[0m\u001b[0;34m:\u001b[0m\u001b[0;34m\u001b[0m\u001b[0m\n\u001b[0;32m-> 1947\u001b[0;31m                 \u001b[0;32mreturn\u001b[0m \u001b[0mself\u001b[0m\u001b[0;34m.\u001b[0m\u001b[0m_engine\u001b[0m\u001b[0;34m.\u001b[0m\u001b[0mget_loc\u001b[0m\u001b[0;34m(\u001b[0m\u001b[0mself\u001b[0m\u001b[0;34m.\u001b[0m\u001b[0m_maybe_cast_indexer\u001b[0m\u001b[0;34m(\u001b[0m\u001b[0mkey\u001b[0m\u001b[0;34m)\u001b[0m\u001b[0;34m)\u001b[0m\u001b[0;34m\u001b[0m\u001b[0m\n\u001b[0m\u001b[1;32m   1948\u001b[0m \u001b[0;34m\u001b[0m\u001b[0m\n\u001b[1;32m   1949\u001b[0m         \u001b[0mindexer\u001b[0m \u001b[0;34m=\u001b[0m \u001b[0mself\u001b[0m\u001b[0;34m.\u001b[0m\u001b[0mget_indexer\u001b[0m\u001b[0;34m(\u001b[0m\u001b[0;34m[\u001b[0m\u001b[0mkey\u001b[0m\u001b[0;34m]\u001b[0m\u001b[0;34m,\u001b[0m \u001b[0mmethod\u001b[0m\u001b[0;34m=\u001b[0m\u001b[0mmethod\u001b[0m\u001b[0;34m,\u001b[0m \u001b[0mtolerance\u001b[0m\u001b[0;34m=\u001b[0m\u001b[0mtolerance\u001b[0m\u001b[0;34m)\u001b[0m\u001b[0;34m\u001b[0m\u001b[0m\n",
      "\u001b[0;32mpandas/index.pyx\u001b[0m in \u001b[0;36mpandas.index.IndexEngine.get_loc (pandas/index.c:4154)\u001b[0;34m()\u001b[0m\n",
      "\u001b[0;32mpandas/index.pyx\u001b[0m in \u001b[0;36mpandas.index.IndexEngine.get_loc (pandas/index.c:4018)\u001b[0;34m()\u001b[0m\n",
      "\u001b[0;32mpandas/hashtable.pyx\u001b[0m in \u001b[0;36mpandas.hashtable.PyObjectHashTable.get_item (pandas/hashtable.c:12368)\u001b[0;34m()\u001b[0m\n",
      "\u001b[0;32mpandas/hashtable.pyx\u001b[0m in \u001b[0;36mpandas.hashtable.PyObjectHashTable.get_item (pandas/hashtable.c:12322)\u001b[0;34m()\u001b[0m\n",
      "\u001b[0;31mKeyError\u001b[0m: '161212'"
     ]
    }
   ],
   "source": [
    "d.ix[('161212')]"
   ]
  },
  {
   "cell_type": "code",
   "execution_count": 58,
   "metadata": {
    "collapsed": true,
    "scrolled": true
   },
   "outputs": [],
   "source": []
  },
  {
   "cell_type": "code",
   "execution_count": 95,
   "metadata": {
    "collapsed": false,
    "scrolled": true
   },
   "outputs": [],
   "source": []
  },
  {
   "cell_type": "code",
   "execution_count": null,
   "metadata": {
    "collapsed": true,
    "scrolled": true
   },
   "outputs": [],
   "source": [
    "def parse_periode(s):\n",
    "    try:\n",
    "        match = re.search(\"(\\d+)-(\\d+)\", s)\n",
    "        return (match.group(1), match.group(2))\n",
    "    except AttributeError:\n",
    "        return None"
   ]
  }
 ],
 "metadata": {
  "anaconda-cloud": {},
  "kernelspec": {
   "display_name": "Python [Root]",
   "language": "python",
   "name": "Python [Root]"
  },
  "language_info": {
   "codemirror_mode": {
    "name": "ipython",
    "version": 3
   },
   "file_extension": ".py",
   "mimetype": "text/x-python",
   "name": "python",
   "nbconvert_exporter": "python",
   "pygments_lexer": "ipython3",
   "version": "3.5.2"
  }
 },
 "nbformat": 4,
 "nbformat_minor": 0
}
